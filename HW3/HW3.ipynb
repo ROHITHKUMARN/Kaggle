{
 "cells": [
  {
   "cell_type": "markdown",
   "metadata": {},
   "source": [
    "This assignment has been done in group of 2. Following are group members\n",
    "1. Zenab Bhinderwala  - 109897840\n",
    "2. Pranavi venkata Changamma Meda - 111492602"
   ]
  },
  {
   "cell_type": "code",
   "execution_count": 1,
   "metadata": {
    "collapsed": true
   },
   "outputs": [],
   "source": [
    "#Importing the libraries to implement the functionalities on the data\n",
    "\n",
    "import pandas as pd\n",
    "import numpy as np\n",
    "import sklearn as skl"
   ]
  },
  {
   "cell_type": "code",
   "execution_count": 2,
   "metadata": {
    "collapsed": true
   },
   "outputs": [],
   "source": [
    "#Reading the data from the properties 2017 csv file\n",
    "\n",
    "prop_org_dataset = pd.read_csv(\"input\\properties_2017.csv\", low_memory=False)"
   ]
  },
  {
   "cell_type": "code",
   "execution_count": 3,
   "metadata": {
    "collapsed": true
   },
   "outputs": [],
   "source": [
    "#Replacing the naN values with zeros for easy calculations\n",
    "\n",
    "prop_org_dataset.fillna(0, inplace=True)"
   ]
  },
  {
   "cell_type": "code",
   "execution_count": 4,
   "metadata": {
    "collapsed": true
   },
   "outputs": [],
   "source": [
    "#We don't need all the properties for predicting the log error or for any other functionalities. \n",
    "#So creating a smaller data frame for efficiency\n",
    "\n",
    "prop_small_dataset = prop_org_dataset[[\"yearbuilt\",\"bathroomcnt\",\"regionidzip\",\"structuretaxvaluedollarcnt\",\"lotsizesquarefeet\",\"finishedsquarefeet12\",\"taxvaluedollarcnt\",\"landtaxvaluedollarcnt\",\"taxamount\",\"bedroomcnt\",\"regionidcity\"]]"
   ]
  },
  {
   "cell_type": "markdown",
   "metadata": {},
   "source": [
    "#### QUESTION 1 ######\n",
    "#### Ranking the houses based on the desirability. Ranking the houses using a scoring function\n"
   ]
  },
  {
   "cell_type": "code",
   "execution_count": 5,
   "metadata": {},
   "outputs": [
    {
     "data": {
      "text/html": [
       "<div>\n",
       "<style>\n",
       "    .dataframe thead tr:only-child th {\n",
       "        text-align: right;\n",
       "    }\n",
       "\n",
       "    .dataframe thead th {\n",
       "        text-align: left;\n",
       "    }\n",
       "\n",
       "    .dataframe tbody tr th {\n",
       "        vertical-align: top;\n",
       "    }\n",
       "</style>\n",
       "<table border=\"1\" class=\"dataframe\">\n",
       "  <thead>\n",
       "    <tr style=\"text-align: right;\">\n",
       "      <th></th>\n",
       "      <th>yearbuilt</th>\n",
       "      <th>bathroomcnt</th>\n",
       "      <th>regionidzip</th>\n",
       "      <th>structuretaxvaluedollarcnt</th>\n",
       "      <th>lotsizesquarefeet</th>\n",
       "      <th>finishedsquarefeet12</th>\n",
       "      <th>taxvaluedollarcnt</th>\n",
       "      <th>landtaxvaluedollarcnt</th>\n",
       "      <th>taxamount</th>\n",
       "      <th>bedroomcnt</th>\n",
       "      <th>regionidcity</th>\n",
       "    </tr>\n",
       "  </thead>\n",
       "  <tbody>\n",
       "    <tr>\n",
       "      <th>0</th>\n",
       "      <td>-7.801213</td>\n",
       "      <td>-2.050062</td>\n",
       "      <td>0.026769</td>\n",
       "      <td>-0.383752</td>\n",
       "      <td>0.273634</td>\n",
       "      <td>-1.45517</td>\n",
       "      <td>-0.539264</td>\n",
       "      <td>-0.544553</td>\n",
       "      <td>-0.556235</td>\n",
       "      <td>-2.424446</td>\n",
       "      <td>0.067989</td>\n",
       "    </tr>\n",
       "    <tr>\n",
       "      <th>1</th>\n",
       "      <td>-7.801213</td>\n",
       "      <td>-2.050062</td>\n",
       "      <td>0.026769</td>\n",
       "      <td>-0.383752</td>\n",
       "      <td>-0.069032</td>\n",
       "      <td>-1.45517</td>\n",
       "      <td>-0.505430</td>\n",
       "      <td>-0.487611</td>\n",
       "      <td>-0.556235</td>\n",
       "      <td>-2.424446</td>\n",
       "      <td>0.067989</td>\n",
       "    </tr>\n",
       "    <tr>\n",
       "      <th>2</th>\n",
       "      <td>0.105091</td>\n",
       "      <td>-2.050062</td>\n",
       "      <td>-0.006464</td>\n",
       "      <td>1.061974</td>\n",
       "      <td>0.178480</td>\n",
       "      <td>-1.45517</td>\n",
       "      <td>1.225695</td>\n",
       "      <td>1.058217</td>\n",
       "      <td>1.599222</td>\n",
       "      <td>-2.424446</td>\n",
       "      <td>0.344209</td>\n",
       "    </tr>\n",
       "    <tr>\n",
       "      <th>3</th>\n",
       "      <td>0.060696</td>\n",
       "      <td>-2.050062</td>\n",
       "      <td>0.038716</td>\n",
       "      <td>0.885556</td>\n",
       "      <td>-0.054609</td>\n",
       "      <td>-1.45517</td>\n",
       "      <td>0.905323</td>\n",
       "      <td>0.685922</td>\n",
       "      <td>0.952306</td>\n",
       "      <td>-2.424446</td>\n",
       "      <td>-0.432555</td>\n",
       "    </tr>\n",
       "    <tr>\n",
       "      <th>4</th>\n",
       "      <td>0.056660</td>\n",
       "      <td>-2.050062</td>\n",
       "      <td>0.042287</td>\n",
       "      <td>0.046786</td>\n",
       "      <td>-0.050452</td>\n",
       "      <td>-1.45517</td>\n",
       "      <td>0.002047</td>\n",
       "      <td>-0.040815</td>\n",
       "      <td>0.037041</td>\n",
       "      <td>-2.424446</td>\n",
       "      <td>-0.432555</td>\n",
       "    </tr>\n",
       "  </tbody>\n",
       "</table>\n",
       "</div>"
      ],
      "text/plain": [
       "   yearbuilt  bathroomcnt  regionidzip  structuretaxvaluedollarcnt  \\\n",
       "0  -7.801213    -2.050062     0.026769                   -0.383752   \n",
       "1  -7.801213    -2.050062     0.026769                   -0.383752   \n",
       "2   0.105091    -2.050062    -0.006464                    1.061974   \n",
       "3   0.060696    -2.050062     0.038716                    0.885556   \n",
       "4   0.056660    -2.050062     0.042287                    0.046786   \n",
       "\n",
       "   lotsizesquarefeet  finishedsquarefeet12  taxvaluedollarcnt  \\\n",
       "0           0.273634              -1.45517          -0.539264   \n",
       "1          -0.069032              -1.45517          -0.505430   \n",
       "2           0.178480              -1.45517           1.225695   \n",
       "3          -0.054609              -1.45517           0.905323   \n",
       "4          -0.050452              -1.45517           0.002047   \n",
       "\n",
       "   landtaxvaluedollarcnt  taxamount  bedroomcnt  regionidcity  \n",
       "0              -0.544553  -0.556235   -2.424446      0.067989  \n",
       "1              -0.487611  -0.556235   -2.424446      0.067989  \n",
       "2               1.058217   1.599222   -2.424446      0.344209  \n",
       "3               0.685922   0.952306   -2.424446     -0.432555  \n",
       "4              -0.040815   0.037041   -2.424446     -0.432555  "
      ]
     },
     "execution_count": 5,
     "metadata": {},
     "output_type": "execute_result"
    }
   ],
   "source": [
    "# Calculating the Z Score using scipy library\n",
    "\n",
    "from scipy.stats import zscore\n",
    "df_zscore = prop_small_dataset\n",
    "df_zscore = df_zscore.apply(zscore)\n",
    "df_zscore.head()"
   ]
  },
  {
   "cell_type": "code",
   "execution_count": 6,
   "metadata": {
    "collapsed": true
   },
   "outputs": [],
   "source": [
    "# Assigning weights to all the zscore of desirable features\n",
    "\n",
    "df_zscore['yearbuilt'] = df_zscore['yearbuilt'].apply(lambda x: x*10)\n",
    "df_zscore['bathroomcnt'] = df_zscore['bathroomcnt'].apply(lambda x: x*5)\n",
    "df_zscore['regionidzip'] = df_zscore['regionidzip'].apply(lambda x: x*8)\n",
    "df_zscore['structuretaxvaluedollarcnt'] = df_zscore['structuretaxvaluedollarcnt'].apply(lambda x: x*10)\n",
    "df_zscore['lotsizesquarefeet'] = df_zscore['lotsizesquarefeet'].apply(lambda x: x*7)\n",
    "df_zscore['finishedsquarefeet12'] = df_zscore['finishedsquarefeet12'].apply(lambda x: x*10)\n",
    "df_zscore['taxvaluedollarcnt'] = df_zscore['taxvaluedollarcnt'].apply(lambda x: x*8)\n",
    "df_zscore['landtaxvaluedollarcnt'] = df_zscore['landtaxvaluedollarcnt'].apply(lambda x: x*6)\n",
    "df_zscore['taxamount'] = df_zscore['taxamount'].apply(lambda x: x*7)\n",
    "df_zscore['bedroomcnt'] = df_zscore['bedroomcnt'].apply(lambda x: x*6)\n",
    "df_zscore['regionidcity'] = df_zscore['regionidcity'].apply(lambda x: x*6)"
   ]
  },
  {
   "cell_type": "code",
   "execution_count": 7,
   "metadata": {},
   "outputs": [
    {
     "data": {
      "text/html": [
       "<div>\n",
       "<style>\n",
       "    .dataframe thead tr:only-child th {\n",
       "        text-align: right;\n",
       "    }\n",
       "\n",
       "    .dataframe thead th {\n",
       "        text-align: left;\n",
       "    }\n",
       "\n",
       "    .dataframe tbody tr th {\n",
       "        vertical-align: top;\n",
       "    }\n",
       "</style>\n",
       "<table border=\"1\" class=\"dataframe\">\n",
       "  <thead>\n",
       "    <tr style=\"text-align: right;\">\n",
       "      <th></th>\n",
       "      <th>yearbuilt</th>\n",
       "      <th>bathroomcnt</th>\n",
       "      <th>regionidzip</th>\n",
       "      <th>structuretaxvaluedollarcnt</th>\n",
       "      <th>lotsizesquarefeet</th>\n",
       "      <th>finishedsquarefeet12</th>\n",
       "      <th>taxvaluedollarcnt</th>\n",
       "      <th>landtaxvaluedollarcnt</th>\n",
       "      <th>taxamount</th>\n",
       "      <th>bedroomcnt</th>\n",
       "      <th>regionidcity</th>\n",
       "      <th>rank</th>\n",
       "    </tr>\n",
       "  </thead>\n",
       "  <tbody>\n",
       "    <tr>\n",
       "      <th>0</th>\n",
       "      <td>-78.012126</td>\n",
       "      <td>-10.250308</td>\n",
       "      <td>0.214150</td>\n",
       "      <td>-3.837520</td>\n",
       "      <td>1.915439</td>\n",
       "      <td>-14.551701</td>\n",
       "      <td>-4.314111</td>\n",
       "      <td>-3.267315</td>\n",
       "      <td>-3.893648</td>\n",
       "      <td>-14.546673</td>\n",
       "      <td>0.407935</td>\n",
       "      <td>-130.135879</td>\n",
       "    </tr>\n",
       "    <tr>\n",
       "      <th>1</th>\n",
       "      <td>-78.012126</td>\n",
       "      <td>-10.250308</td>\n",
       "      <td>0.214150</td>\n",
       "      <td>-3.837520</td>\n",
       "      <td>-0.483222</td>\n",
       "      <td>-14.551701</td>\n",
       "      <td>-4.043444</td>\n",
       "      <td>-2.925664</td>\n",
       "      <td>-3.893648</td>\n",
       "      <td>-14.546673</td>\n",
       "      <td>0.407935</td>\n",
       "      <td>-131.922221</td>\n",
       "    </tr>\n",
       "    <tr>\n",
       "      <th>2</th>\n",
       "      <td>1.050906</td>\n",
       "      <td>-10.250308</td>\n",
       "      <td>-0.051715</td>\n",
       "      <td>10.619745</td>\n",
       "      <td>1.249358</td>\n",
       "      <td>-14.551701</td>\n",
       "      <td>9.805558</td>\n",
       "      <td>6.349302</td>\n",
       "      <td>11.194555</td>\n",
       "      <td>-14.546673</td>\n",
       "      <td>2.065256</td>\n",
       "      <td>2.934283</td>\n",
       "    </tr>\n",
       "    <tr>\n",
       "      <th>3</th>\n",
       "      <td>0.606959</td>\n",
       "      <td>-10.250308</td>\n",
       "      <td>0.309729</td>\n",
       "      <td>8.855564</td>\n",
       "      <td>-0.382266</td>\n",
       "      <td>-14.551701</td>\n",
       "      <td>7.242584</td>\n",
       "      <td>4.115532</td>\n",
       "      <td>6.666144</td>\n",
       "      <td>-14.546673</td>\n",
       "      <td>-2.595327</td>\n",
       "      <td>-14.529764</td>\n",
       "    </tr>\n",
       "    <tr>\n",
       "      <th>4</th>\n",
       "      <td>0.566600</td>\n",
       "      <td>-10.250308</td>\n",
       "      <td>0.338293</td>\n",
       "      <td>0.467864</td>\n",
       "      <td>-0.353166</td>\n",
       "      <td>-14.551701</td>\n",
       "      <td>0.016375</td>\n",
       "      <td>-0.244892</td>\n",
       "      <td>0.259285</td>\n",
       "      <td>-14.546673</td>\n",
       "      <td>-2.595327</td>\n",
       "      <td>-40.893650</td>\n",
       "    </tr>\n",
       "  </tbody>\n",
       "</table>\n",
       "</div>"
      ],
      "text/plain": [
       "   yearbuilt  bathroomcnt  regionidzip  structuretaxvaluedollarcnt  \\\n",
       "0 -78.012126   -10.250308     0.214150                   -3.837520   \n",
       "1 -78.012126   -10.250308     0.214150                   -3.837520   \n",
       "2   1.050906   -10.250308    -0.051715                   10.619745   \n",
       "3   0.606959   -10.250308     0.309729                    8.855564   \n",
       "4   0.566600   -10.250308     0.338293                    0.467864   \n",
       "\n",
       "   lotsizesquarefeet  finishedsquarefeet12  taxvaluedollarcnt  \\\n",
       "0           1.915439            -14.551701          -4.314111   \n",
       "1          -0.483222            -14.551701          -4.043444   \n",
       "2           1.249358            -14.551701           9.805558   \n",
       "3          -0.382266            -14.551701           7.242584   \n",
       "4          -0.353166            -14.551701           0.016375   \n",
       "\n",
       "   landtaxvaluedollarcnt  taxamount  bedroomcnt  regionidcity        rank  \n",
       "0              -3.267315  -3.893648  -14.546673      0.407935 -130.135879  \n",
       "1              -2.925664  -3.893648  -14.546673      0.407935 -131.922221  \n",
       "2               6.349302  11.194555  -14.546673      2.065256    2.934283  \n",
       "3               4.115532   6.666144  -14.546673     -2.595327  -14.529764  \n",
       "4              -0.244892   0.259285  -14.546673     -2.595327  -40.893650  "
      ]
     },
     "execution_count": 7,
     "metadata": {},
     "output_type": "execute_result"
    }
   ],
   "source": [
    "# Summing all zscores to get a rank for every row \n",
    "\n",
    "df_zscore['rank'] = df_zscore.sum(axis = 1)\n",
    "df_zscore.head()"
   ]
  },
  {
   "cell_type": "code",
   "execution_count": 8,
   "metadata": {},
   "outputs": [
    {
     "name": "stdout",
     "output_type": "stream",
     "text": [
      "Most Desirable 10 properties !!!!!!\n"
     ]
    },
    {
     "data": {
      "text/plain": [
       "[167688009,\n",
       " 11746970,\n",
       " 14340985,\n",
       " 11984395,\n",
       " 11783635,\n",
       " 10944745,\n",
       " 11467277,\n",
       " 11784354,\n",
       " 11638223,\n",
       " 11635852]"
      ]
     },
     "execution_count": 8,
     "metadata": {},
     "output_type": "execute_result"
    }
   ],
   "source": [
    "# Sorting the zscore in descending order of rank, highest 10 rank as most desirable and lowest 10 ranks as least desirable\n",
    "\n",
    "df_zscore['parcelid'] = prop_org_dataset['parcelid']\n",
    "df_zscore_sorted = df_zscore.sort_values(['rank'], ascending=False)['parcelid']\n",
    "most_desirable  = list(df_zscore_sorted.values[:10])\n",
    "least_desirable = list(df_zscore_sorted.values[-10:])\n",
    "print (\"Most Desirable 10 properties !!!!!!\")\n",
    "most_desirable"
   ]
  },
  {
   "cell_type": "code",
   "execution_count": 9,
   "metadata": {},
   "outputs": [
    {
     "name": "stdout",
     "output_type": "stream",
     "text": [
      "Least Desirable 10 properties !!!!!!\n"
     ]
    },
    {
     "data": {
      "text/plain": [
       "[13903095,\n",
       " 17277895,\n",
       " 11324895,\n",
       " 10866295,\n",
       " 11732695,\n",
       " 13113496,\n",
       " 13113296,\n",
       " 13113096,\n",
       " 11905696,\n",
       " 12766630]"
      ]
     },
     "execution_count": 9,
     "metadata": {},
     "output_type": "execute_result"
    }
   ],
   "source": [
    "print (\"Least Desirable 10 properties !!!!!!\")\n",
    "least_desirable"
   ]
  },
  {
   "cell_type": "markdown",
   "metadata": {},
   "source": [
    "##### Scoring function ########\n",
    "\n",
    "Scoring functions are used to rank or order items by sorting the scores.\n",
    "In this project we are ranking the houses based on desirability. We have used the properties “yearbuilt”, \"bathroomcnt\", \"structuretaxvaluedollarcnt\", \"lotsizesquarefeet\", \"finishedsquarefeet15\", \"taxvaluedollarcnt\", \"landtaxvaluedollarcnt\",\"taxamount\",\"bedroomcnt\",\"regionidcity\" to score the desirability of a house.\n",
    "\n",
    "Scoring function used : Z SCORE function\n",
    "\n",
    "The Z Score values are calculated as; Z = (xi - mean)/ standard variance. This normalizes the data to a uniform range. \n",
    "Now we have given weights to the properties based on their importance in choosing a house. Multiplied the values of each property with the weight and summing all the properties of a row would give a score for that function.\n",
    "Sorting these values gave us the ten most desirable and least houses.\n",
    "\n",
    "The parcel IDs of ten most desirable and ten least desirable houses are displayed above.\n"
   ]
  },
  {
   "cell_type": "markdown",
   "metadata": {},
   "source": [
    "###### QUESTION 2 ########\n",
    "\n",
    "Calculating the pairwise distance and finding the similarity between the houses based on properties."
   ]
  },
  {
   "cell_type": "code",
   "execution_count": 20,
   "metadata": {
    "collapsed": true
   },
   "outputs": [],
   "source": [
    "#Calculating the euclidian distance using sklearn library\n",
    "\n",
    "from sklearn.metrics.pairwise import euclidean_distances\n",
    "dist_x = dist_y = prop_small_dataset[:15]\n",
    "euc_dist = euclidean_distances(dist_x,dist_y)"
   ]
  },
  {
   "cell_type": "code",
   "execution_count": 12,
   "metadata": {
    "collapsed": true
   },
   "outputs": [],
   "source": [
    "x_labels = prop_org_dataset[['parcelid']][:15].values\n"
   ]
  },
  {
   "cell_type": "code",
   "execution_count": 25,
   "metadata": {
    "scrolled": true
   },
   "outputs": [
    {
     "data": {
      "text/plain": [
       "<matplotlib.axes._subplots.AxesSubplot at 0x1bc4d749240>"
      ]
     },
     "execution_count": 25,
     "metadata": {},
     "output_type": "execute_result"
    },
    {
     "data": {
      "image/png": "[encoded data removed]",
      "text/plain": [
       "<matplotlib.figure.Figure at 0x1bc4d214048>"
      ]
     },
     "metadata": {},
     "output_type": "display_data"
    }
   ],
   "source": [
    "import seaborn as sns\n",
    "import matplotlib.pyplot as plt\n",
    "%matplotlib inline\n",
    "euc_dist = np.tril(euc_dist)\n",
    "plt.figure(figsize=(20,15))\n",
    "sns.heatmap(euc_dist,xticklabels=x_labels,yticklabels=x_labels,square=True,cmap='PuRd')"
   ]
  },
  {
   "cell_type": "markdown",
   "metadata": {},
   "source": [
    "###### Pair Wise Distance function: #######\n",
    "\n",
    "To find the similarity between two properties. Very similar properties will give a distance value close to zero. As the dissimilarity grows the distance value increases. This can be seen via clustering also. Similar pair of properties will fall into the same cluster with a less distance (close to zero) between them. Dissimilar properties fall into different clusters indicating more distance between them.\n",
    "\n",
    "We used Euclidian Distance as a pair wise distance function.\n",
    "Dist = sqrt((x1^2 – x2^2)+(y1^2 – y2^2))\n",
    "\n",
    "We used a heat map to show how closely the properties are related."
   ]
  },
  {
   "cell_type": "code",
   "execution_count": 26,
   "metadata": {},
   "outputs": [
    {
     "data": {
      "text/plain": [
       "(2985217, 58)"
      ]
     },
     "execution_count": 26,
     "metadata": {},
     "output_type": "execute_result"
    }
   ],
   "source": [
    "prop_org_dataset.shape"
   ]
  },
  {
   "cell_type": "markdown",
   "metadata": {},
   "source": [
    "###### QUESTION 3 ########\n",
    "\n",
    "CLUSTERING"
   ]
  },
  {
   "cell_type": "code",
   "execution_count": 36,
   "metadata": {},
   "outputs": [],
   "source": [
    "from sklearn import cluster\n",
    "euc_dist_all = euclidean_distances(prop_small_dataset[:10000],prop_small_dataset[:10000])"
   ]
  },
  {
   "cell_type": "code",
   "execution_count": 40,
   "metadata": {},
   "outputs": [
    {
     "data": {
      "text/html": [
       "<div style=\"width:100%;\"><div style=\"position:relative;width:100%;height:0;padding-bottom:60%;\"><iframe src=\"data:text/html;charset=utf-8;base64,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\" style=\"position:absolute;width:100%;height:100%;left:0;top:0;border:none !important;\" allowfullscreen webkitallowfullscreen mozallowfullscreen></iframe></div></div>"
      ],
      "text/plain": [
       "<folium.folium.Map at 0x1bc4e5269e8>"
      ]
     },
     "execution_count": 40,
     "metadata": {},
     "output_type": "execute_result"
    }
   ],
   "source": [
    "geo_df = prop_org_dataset[['latitude', 'longitude']]\n",
    "geo_df=geo_df[:10000]\n",
    "geo_df.loc[:,'longitude']=geo_df.loc[:,'longitude'].apply(lambda x: x/1e6)\n",
    "geo_df.loc[:,'latitude']= geo_df.loc[:,'latitude'].apply(lambda x: x/1e6)\n",
    "geo_df.loc[geo_df.latitude == 0, 'latitude'] = 34.088537\n",
    "geo_df.loc[geo_df.longitude == 0, 'longitude'] = -118.249923\n",
    "from sklearn.cluster import MiniBatchKMeans\n",
    "import folium\n",
    "kmeans1 = MiniBatchKMeans(n_clusters=10, batch_size=1000).fit(geo_df[['latitude','longitude']])\n",
    "geo_df.loc[:, 'label'] = kmeans1.labels_\n",
    "map_2 = folium.Map(location=[34.088537, -118.249923],\n",
    "                   zoom_start=9)\n",
    "for label in kmeans1.cluster_centers_:\n",
    "    folium.Marker(location=[label][0]).add_to(map_2)\n",
    "map_2"
   ]
  },
  {
   "cell_type": "markdown",
   "metadata": {},
   "source": [
    "#The above map shows the centre of ten clusters given the latitude and longitude"
   ]
  },
  {
   "cell_type": "code",
   "execution_count": 44,
   "metadata": {},
   "outputs": [
    {
     "data": {
      "text/plain": [
       "<matplotlib.text.Text at 0x1bc744c2630>"
      ]
     },
     "execution_count": 44,
     "metadata": {},
     "output_type": "execute_result"
    },
    {
     "data": {
      "image/png": "[encoded data removed]",
      "text/plain": [
       "<matplotlib.figure.Figure at 0x1bc735e1ef0>"
      ]
     },
     "metadata": {},
     "output_type": "display_data"
    }
   ],
   "source": [
    "#Clustering the data using kmeans clustering from sklearn library\n",
    "\n",
    "from random import randint\n",
    "from sklearn.cluster import KMeans\n",
    "colors = []\n",
    "\n",
    "for i in range(10):\n",
    "    colors.append('%06X' % randint(0, 0xFFFFFF))\n",
    "ptsymb = np.array(['b.','r.','m.','g.','c.','k.','b*','r*','m*','r^']);\n",
    "kmeans = KMeans(n_clusters=10, random_state=0).fit(euc_dist_all)\n",
    "geo_df.loc[:,'labels']=kmeans.labels_\n",
    "plt.figure(figsize=(12,12))\n",
    "for index,row in geo_df.iterrows():\n",
    "    i = int(row['labels'])\n",
    "    plt.plot(row['latitude'],row['longitude'],ptsymb[i])\n",
    "plt.ylabel('Longitude', fontsize=12)\n",
    "plt.xlabel('Latitude', fontsize=12)"
   ]
  },
  {
   "cell_type": "markdown",
   "metadata": {
    "collapsed": true
   },
   "source": [
    "###### CLUSTERING #######\n",
    "\n",
    "We used our distance function from previous step and clustered the properties. K-means clustering algorithm has been used to cluster the data. We have divided the 3 million data into 10 clusters.\n",
    "All the houses with similar properties will be clustered into one cluster.\n",
    "\n",
    "We used a scatter plot over map to show this. All the houses are plotted using the latitude and longitude.\n",
    "The houses under same cluster are coloured same."
   ]
  },
  {
   "cell_type": "markdown",
   "metadata": {
    "collapsed": true
   },
   "source": [
    "###### QUESTION 4 #######\n",
    "\n",
    "EXTERNAL DATA"
   ]
  },
  {
   "cell_type": "code",
   "execution_count": 45,
   "metadata": {
    "collapsed": true
   },
   "outputs": [],
   "source": [
    "############# External Data #####################################\n",
    "\n",
    "crime_dataset = pd.read_csv(\"input\\crimes_2015.csv\", low_memory=False)"
   ]
  },
  {
   "cell_type": "code",
   "execution_count": 46,
   "metadata": {},
   "outputs": [
    {
     "data": {
      "text/html": [
       "<div>\n",
       "<style>\n",
       "    .dataframe thead tr:only-child th {\n",
       "        text-align: right;\n",
       "    }\n",
       "\n",
       "    .dataframe thead th {\n",
       "        text-align: left;\n",
       "    }\n",
       "\n",
       "    .dataframe tbody tr th {\n",
       "        vertical-align: top;\n",
       "    }\n",
       "</style>\n",
       "<table border=\"1\" class=\"dataframe\">\n",
       "  <thead>\n",
       "    <tr style=\"text-align: right;\">\n",
       "      <th></th>\n",
       "      <th>ID</th>\n",
       "      <th>City</th>\n",
       "      <th>Assault</th>\n",
       "      <th>Robbery</th>\n",
       "      <th>Homicide</th>\n",
       "      <th>Burglary</th>\n",
       "      <th>Auto Theft</th>\n",
       "      <th>Larceny</th>\n",
       "      <th>Population</th>\n",
       "    </tr>\n",
       "  </thead>\n",
       "  <tbody>\n",
       "    <tr>\n",
       "      <th>0</th>\n",
       "      <td>1</td>\n",
       "      <td>AGOURA HILLS</td>\n",
       "      <td>17.9</td>\n",
       "      <td>31.2</td>\n",
       "      <td>0.0</td>\n",
       "      <td>83.8</td>\n",
       "      <td>24.4</td>\n",
       "      <td>54.2</td>\n",
       "      <td>20970</td>\n",
       "    </tr>\n",
       "    <tr>\n",
       "      <th>1</th>\n",
       "      <td>2</td>\n",
       "      <td>ALHAMBRA</td>\n",
       "      <td>43.6</td>\n",
       "      <td>93.6</td>\n",
       "      <td>27.8</td>\n",
       "      <td>75.9</td>\n",
       "      <td>113.7</td>\n",
       "      <td>85.9</td>\n",
       "      <td>86175</td>\n",
       "    </tr>\n",
       "    <tr>\n",
       "      <th>2</th>\n",
       "      <td>3</td>\n",
       "      <td>ARCADIA</td>\n",
       "      <td>24.0</td>\n",
       "      <td>57.6</td>\n",
       "      <td>40.8</td>\n",
       "      <td>115.4</td>\n",
       "      <td>50.6</td>\n",
       "      <td>79.6</td>\n",
       "      <td>58694</td>\n",
       "    </tr>\n",
       "    <tr>\n",
       "      <th>3</th>\n",
       "      <td>4</td>\n",
       "      <td>ARTESIA</td>\n",
       "      <td>143.8</td>\n",
       "      <td>192.6</td>\n",
       "      <td>0.0</td>\n",
       "      <td>124.9</td>\n",
       "      <td>303.5</td>\n",
       "      <td>79.6</td>\n",
       "      <td>16988</td>\n",
       "    </tr>\n",
       "    <tr>\n",
       "      <th>4</th>\n",
       "      <td>5</td>\n",
       "      <td>AZUSA</td>\n",
       "      <td>103.6</td>\n",
       "      <td>108.1</td>\n",
       "      <td>96.8</td>\n",
       "      <td>100.6</td>\n",
       "      <td>184.2</td>\n",
       "      <td>83.1</td>\n",
       "      <td>49431</td>\n",
       "    </tr>\n",
       "  </tbody>\n",
       "</table>\n",
       "</div>"
      ],
      "text/plain": [
       "   ID          City  Assault  Robbery  Homicide  Burglary  Auto Theft  \\\n",
       "0   1  AGOURA HILLS     17.9     31.2       0.0      83.8        24.4   \n",
       "1   2      ALHAMBRA     43.6     93.6      27.8      75.9       113.7   \n",
       "2   3       ARCADIA     24.0     57.6      40.8     115.4        50.6   \n",
       "3   4       ARTESIA    143.8    192.6       0.0     124.9       303.5   \n",
       "4   5         AZUSA    103.6    108.1      96.8     100.6       184.2   \n",
       "\n",
       "   Larceny  Population  \n",
       "0     54.2       20970  \n",
       "1     85.9       86175  \n",
       "2     79.6       58694  \n",
       "3     79.6       16988  \n",
       "4     83.1       49431  "
      ]
     },
     "execution_count": 46,
     "metadata": {},
     "output_type": "execute_result"
    }
   ],
   "source": [
    "crime_dataset.head()"
   ]
  },
  {
   "cell_type": "code",
   "execution_count": 47,
   "metadata": {
    "collapsed": true
   },
   "outputs": [],
   "source": [
    "crime_dataset['CrimeRate'] = crime_dataset[['Assault','Robbery','Homicide','Burglary','Auto Theft','Larceny']].mean(axis =1).round(2)"
   ]
  },
  {
   "cell_type": "code",
   "execution_count": 48,
   "metadata": {},
   "outputs": [
    {
     "data": {
      "text/html": [
       "<div>\n",
       "<style>\n",
       "    .dataframe thead tr:only-child th {\n",
       "        text-align: right;\n",
       "    }\n",
       "\n",
       "    .dataframe thead th {\n",
       "        text-align: left;\n",
       "    }\n",
       "\n",
       "    .dataframe tbody tr th {\n",
       "        vertical-align: top;\n",
       "    }\n",
       "</style>\n",
       "<table border=\"1\" class=\"dataframe\">\n",
       "  <thead>\n",
       "    <tr style=\"text-align: right;\">\n",
       "      <th></th>\n",
       "      <th>ID</th>\n",
       "      <th>City</th>\n",
       "      <th>Assault</th>\n",
       "      <th>Robbery</th>\n",
       "      <th>Homicide</th>\n",
       "      <th>Burglary</th>\n",
       "      <th>Auto Theft</th>\n",
       "      <th>Larceny</th>\n",
       "      <th>Population</th>\n",
       "      <th>CrimeRate</th>\n",
       "    </tr>\n",
       "  </thead>\n",
       "  <tbody>\n",
       "    <tr>\n",
       "      <th>0</th>\n",
       "      <td>1</td>\n",
       "      <td>AGOURA HILLS</td>\n",
       "      <td>17.9</td>\n",
       "      <td>31.2</td>\n",
       "      <td>0.0</td>\n",
       "      <td>83.8</td>\n",
       "      <td>24.4</td>\n",
       "      <td>54.2</td>\n",
       "      <td>20970</td>\n",
       "      <td>35.25</td>\n",
       "    </tr>\n",
       "    <tr>\n",
       "      <th>1</th>\n",
       "      <td>2</td>\n",
       "      <td>ALHAMBRA</td>\n",
       "      <td>43.6</td>\n",
       "      <td>93.6</td>\n",
       "      <td>27.8</td>\n",
       "      <td>75.9</td>\n",
       "      <td>113.7</td>\n",
       "      <td>85.9</td>\n",
       "      <td>86175</td>\n",
       "      <td>73.42</td>\n",
       "    </tr>\n",
       "    <tr>\n",
       "      <th>2</th>\n",
       "      <td>3</td>\n",
       "      <td>ARCADIA</td>\n",
       "      <td>24.0</td>\n",
       "      <td>57.6</td>\n",
       "      <td>40.8</td>\n",
       "      <td>115.4</td>\n",
       "      <td>50.6</td>\n",
       "      <td>79.6</td>\n",
       "      <td>58694</td>\n",
       "      <td>61.33</td>\n",
       "    </tr>\n",
       "    <tr>\n",
       "      <th>3</th>\n",
       "      <td>4</td>\n",
       "      <td>ARTESIA</td>\n",
       "      <td>143.8</td>\n",
       "      <td>192.6</td>\n",
       "      <td>0.0</td>\n",
       "      <td>124.9</td>\n",
       "      <td>303.5</td>\n",
       "      <td>79.6</td>\n",
       "      <td>16988</td>\n",
       "      <td>140.73</td>\n",
       "    </tr>\n",
       "    <tr>\n",
       "      <th>4</th>\n",
       "      <td>5</td>\n",
       "      <td>AZUSA</td>\n",
       "      <td>103.6</td>\n",
       "      <td>108.1</td>\n",
       "      <td>96.8</td>\n",
       "      <td>100.6</td>\n",
       "      <td>184.2</td>\n",
       "      <td>83.1</td>\n",
       "      <td>49431</td>\n",
       "      <td>112.73</td>\n",
       "    </tr>\n",
       "  </tbody>\n",
       "</table>\n",
       "</div>"
      ],
      "text/plain": [
       "   ID          City  Assault  Robbery  Homicide  Burglary  Auto Theft  \\\n",
       "0   1  AGOURA HILLS     17.9     31.2       0.0      83.8        24.4   \n",
       "1   2      ALHAMBRA     43.6     93.6      27.8      75.9       113.7   \n",
       "2   3       ARCADIA     24.0     57.6      40.8     115.4        50.6   \n",
       "3   4       ARTESIA    143.8    192.6       0.0     124.9       303.5   \n",
       "4   5         AZUSA    103.6    108.1      96.8     100.6       184.2   \n",
       "\n",
       "   Larceny  Population  CrimeRate  \n",
       "0     54.2       20970      35.25  \n",
       "1     85.9       86175      73.42  \n",
       "2     79.6       58694      61.33  \n",
       "3     79.6       16988     140.73  \n",
       "4     83.1       49431     112.73  "
      ]
     },
     "execution_count": 48,
     "metadata": {},
     "output_type": "execute_result"
    }
   ],
   "source": [
    "crime_dataset.head()"
   ]
  },
  {
   "cell_type": "code",
   "execution_count": 49,
   "metadata": {
    "collapsed": true
   },
   "outputs": [],
   "source": [
    "## Geopy and US Zipcode APIs for getting the geo location and zipcode of the location\n",
    "\n",
    "from geopy.geocoders import Nominatim\n",
    "geolocator = Nominatim()\n",
    "from uszipcode import ZipcodeSearchEngine\n",
    "search = ZipcodeSearchEngine()"
   ]
  },
  {
   "cell_type": "code",
   "execution_count": 50,
   "metadata": {},
   "outputs": [
    {
     "name": "stderr",
     "output_type": "stream",
     "text": [
      "C:\\Users\\mazsy\\Anaconda3\\lib\\site-packages\\ipykernel_launcher.py:5: DeprecationWarning: \n",
      ".ix is deprecated. Please use\n",
      ".loc for label based indexing or\n",
      ".iloc for positional indexing\n",
      "\n",
      "See the documentation here:\n",
      "http://pandas.pydata.org/pandas-docs/stable/indexing.html#ix-indexer-is-deprecated\n",
      "  \"\"\"\n"
     ]
    }
   ],
   "source": [
    "for  index,row in crime_dataset.iterrows():\n",
    "    loc = ' '.join([row['City'],'CALIFORNIA United States of America'])\n",
    "    location = geolocator.geocode(loc)\n",
    "    if location :\n",
    "        crime_dataset.ix[index,'latitude'] = location.latitude * 1000000\n",
    "        crime_dataset.ix[index,'longitude']=location.longitude * 1000000\n",
    "        zipcode = search.by_coordinate(location.latitude, location.longitude,returns=1).pop()['Zipcode']\n",
    "        crime_dataset.ix[index,'ZipCode']=zipcode"
   ]
  },
  {
   "cell_type": "code",
   "execution_count": 67,
   "metadata": {},
   "outputs": [
    {
     "data": {
      "text/html": [
       "<div>\n",
       "<style>\n",
       "    .dataframe thead tr:only-child th {\n",
       "        text-align: right;\n",
       "    }\n",
       "\n",
       "    .dataframe thead th {\n",
       "        text-align: left;\n",
       "    }\n",
       "\n",
       "    .dataframe tbody tr th {\n",
       "        vertical-align: top;\n",
       "    }\n",
       "</style>\n",
       "<table border=\"1\" class=\"dataframe\">\n",
       "  <thead>\n",
       "    <tr style=\"text-align: right;\">\n",
       "      <th></th>\n",
       "      <th>ID</th>\n",
       "      <th>City</th>\n",
       "      <th>Assault</th>\n",
       "      <th>Robbery</th>\n",
       "      <th>Homicide</th>\n",
       "      <th>Burglary</th>\n",
       "      <th>Auto Theft</th>\n",
       "      <th>Larceny</th>\n",
       "      <th>Population</th>\n",
       "      <th>CrimeRate</th>\n",
       "      <th>latitude</th>\n",
       "      <th>longitude</th>\n",
       "      <th>ZipCode</th>\n",
       "    </tr>\n",
       "  </thead>\n",
       "  <tbody>\n",
       "    <tr>\n",
       "      <th>0</th>\n",
       "      <td>1</td>\n",
       "      <td>AGOURA HILLS</td>\n",
       "      <td>17.9</td>\n",
       "      <td>31.2</td>\n",
       "      <td>0.0</td>\n",
       "      <td>83.8</td>\n",
       "      <td>24.4</td>\n",
       "      <td>54.2</td>\n",
       "      <td>20970</td>\n",
       "      <td>35.25</td>\n",
       "      <td>34136394.5</td>\n",
       "      <td>-118774534.8</td>\n",
       "      <td>91301</td>\n",
       "    </tr>\n",
       "    <tr>\n",
       "      <th>1</th>\n",
       "      <td>2</td>\n",
       "      <td>ALHAMBRA</td>\n",
       "      <td>43.6</td>\n",
       "      <td>93.6</td>\n",
       "      <td>27.8</td>\n",
       "      <td>75.9</td>\n",
       "      <td>113.7</td>\n",
       "      <td>85.9</td>\n",
       "      <td>86175</td>\n",
       "      <td>73.42</td>\n",
       "      <td>34093042.0</td>\n",
       "      <td>-118127060.0</td>\n",
       "      <td>91801</td>\n",
       "    </tr>\n",
       "    <tr>\n",
       "      <th>2</th>\n",
       "      <td>3</td>\n",
       "      <td>ARCADIA</td>\n",
       "      <td>24.0</td>\n",
       "      <td>57.6</td>\n",
       "      <td>40.8</td>\n",
       "      <td>115.4</td>\n",
       "      <td>50.6</td>\n",
       "      <td>79.6</td>\n",
       "      <td>58694</td>\n",
       "      <td>61.33</td>\n",
       "      <td>34136207.5</td>\n",
       "      <td>-118040149.7</td>\n",
       "      <td>91007</td>\n",
       "    </tr>\n",
       "    <tr>\n",
       "      <th>3</th>\n",
       "      <td>4</td>\n",
       "      <td>ARTESIA</td>\n",
       "      <td>143.8</td>\n",
       "      <td>192.6</td>\n",
       "      <td>0.0</td>\n",
       "      <td>124.9</td>\n",
       "      <td>303.5</td>\n",
       "      <td>79.6</td>\n",
       "      <td>16988</td>\n",
       "      <td>140.73</td>\n",
       "      <td>33869019.7</td>\n",
       "      <td>-118079619.5</td>\n",
       "      <td>90701</td>\n",
       "    </tr>\n",
       "    <tr>\n",
       "      <th>4</th>\n",
       "      <td>5</td>\n",
       "      <td>AZUSA</td>\n",
       "      <td>103.6</td>\n",
       "      <td>108.1</td>\n",
       "      <td>96.8</td>\n",
       "      <td>100.6</td>\n",
       "      <td>184.2</td>\n",
       "      <td>83.1</td>\n",
       "      <td>49431</td>\n",
       "      <td>112.73</td>\n",
       "      <td>34133875.1</td>\n",
       "      <td>-117905604.6</td>\n",
       "      <td>91010</td>\n",
       "    </tr>\n",
       "  </tbody>\n",
       "</table>\n",
       "</div>"
      ],
      "text/plain": [
       "   ID          City  Assault  Robbery  Homicide  Burglary  Auto Theft  \\\n",
       "0   1  AGOURA HILLS     17.9     31.2       0.0      83.8        24.4   \n",
       "1   2      ALHAMBRA     43.6     93.6      27.8      75.9       113.7   \n",
       "2   3       ARCADIA     24.0     57.6      40.8     115.4        50.6   \n",
       "3   4       ARTESIA    143.8    192.6       0.0     124.9       303.5   \n",
       "4   5         AZUSA    103.6    108.1      96.8     100.6       184.2   \n",
       "\n",
       "   Larceny  Population  CrimeRate    latitude    longitude ZipCode  \n",
       "0     54.2       20970      35.25  34136394.5 -118774534.8   91301  \n",
       "1     85.9       86175      73.42  34093042.0 -118127060.0   91801  \n",
       "2     79.6       58694      61.33  34136207.5 -118040149.7   91007  \n",
       "3     79.6       16988     140.73  33869019.7 -118079619.5   90701  \n",
       "4     83.1       49431     112.73  34133875.1 -117905604.6   91010  "
      ]
     },
     "execution_count": 67,
     "metadata": {},
     "output_type": "execute_result"
    }
   ],
   "source": [
    "crime_dataset.loc[crime_dataset.City== 'SAN MARINO','ZipCode']=int(91108)\n",
    "crime_dataset.head()"
   ]
  },
  {
   "cell_type": "code",
   "execution_count": 52,
   "metadata": {},
   "outputs": [
    {
     "data": {
      "text/plain": [
       "<matplotlib.collections.PathCollection at 0x1bc71283940>"
      ]
     },
     "execution_count": 52,
     "metadata": {},
     "output_type": "execute_result"
    },
    {
     "data": {
      "image/png": "[encoded data removed]",
      "text/plain": [
       "<matplotlib.figure.Figure at 0x1bc711ea080>"
      ]
     },
     "metadata": {},
     "output_type": "display_data"
    }
   ],
   "source": [
    "# Plotting the locations of available crime rates \n",
    "\n",
    "plt.figure(figsize = (12,12))\n",
    "plt.scatter(x='latitude',y='longitude',data=crime_dataset)"
   ]
  },
  {
   "cell_type": "code",
   "execution_count": 66,
   "metadata": {
    "collapsed": true
   },
   "outputs": [],
   "source": [
    "crime_dataset.to_csv(\"input/crime_sample.csv\", index=False)"
   ]
  },
  {
   "cell_type": "code",
   "execution_count": 54,
   "metadata": {
    "collapsed": true
   },
   "outputs": [],
   "source": [
    "train_dataset = pd.read_csv(\"input/train_2017.csv\", low_memory=False)"
   ]
  },
  {
   "cell_type": "code",
   "execution_count": 55,
   "metadata": {},
   "outputs": [
    {
     "data": {
      "text/plain": [
       "(2985217, 58)"
      ]
     },
     "execution_count": 55,
     "metadata": {},
     "output_type": "execute_result"
    }
   ],
   "source": [
    "train_dataset.shape\n",
    "prop_org_dataset.shape"
   ]
  },
  {
   "cell_type": "code",
   "execution_count": 56,
   "metadata": {},
   "outputs": [
    {
     "data": {
      "text/plain": [
       "(999, 7)"
      ]
     },
     "execution_count": 56,
     "metadata": {},
     "output_type": "execute_result"
    }
   ],
   "source": [
    "#### Fill in region id for missing ones############\n",
    "\n",
    "prop_org_dataset.loc[prop_org_dataset.regionidzip==0, 'regionidzip']=96001\n",
    "zillow_zip_dataset=pd.read_csv(\"input/zillow_zipcodes.csv\",low_memory=False)\n",
    "zillow_zip_dataset.shape"
   ]
  },
  {
   "cell_type": "code",
   "execution_count": 57,
   "metadata": {
    "collapsed": true
   },
   "outputs": [],
   "source": [
    "#Merging the actual zipcodes with the properties file\n",
    "\n",
    "from merge_closest import merge_closest\n",
    "prop_org_dataset=merge_closest(prop_org_dataset,zillow_zip_dataset,'regionidzip','id', include_cols='ZipCode')"
   ]
  },
  {
   "cell_type": "code",
   "execution_count": 58,
   "metadata": {},
   "outputs": [
    {
     "data": {
      "text/html": [
       "<div>\n",
       "<style>\n",
       "    .dataframe thead tr:only-child th {\n",
       "        text-align: right;\n",
       "    }\n",
       "\n",
       "    .dataframe thead th {\n",
       "        text-align: left;\n",
       "    }\n",
       "\n",
       "    .dataframe tbody tr th {\n",
       "        vertical-align: top;\n",
       "    }\n",
       "</style>\n",
       "<table border=\"1\" class=\"dataframe\">\n",
       "  <thead>\n",
       "    <tr style=\"text-align: right;\">\n",
       "      <th></th>\n",
       "      <th>parcelid</th>\n",
       "      <th>airconditioningtypeid</th>\n",
       "      <th>architecturalstyletypeid</th>\n",
       "      <th>basementsqft</th>\n",
       "      <th>bathroomcnt</th>\n",
       "      <th>bedroomcnt</th>\n",
       "      <th>buildingclasstypeid</th>\n",
       "      <th>buildingqualitytypeid</th>\n",
       "      <th>calculatedbathnbr</th>\n",
       "      <th>decktypeid</th>\n",
       "      <th>...</th>\n",
       "      <th>fireplaceflag</th>\n",
       "      <th>structuretaxvaluedollarcnt</th>\n",
       "      <th>taxvaluedollarcnt</th>\n",
       "      <th>assessmentyear</th>\n",
       "      <th>landtaxvaluedollarcnt</th>\n",
       "      <th>taxamount</th>\n",
       "      <th>taxdelinquencyflag</th>\n",
       "      <th>taxdelinquencyyear</th>\n",
       "      <th>censustractandblock</th>\n",
       "      <th>ZipCode</th>\n",
       "    </tr>\n",
       "  </thead>\n",
       "  <tbody>\n",
       "    <tr>\n",
       "      <th>0</th>\n",
       "      <td>10754147</td>\n",
       "      <td>0.0</td>\n",
       "      <td>0.0</td>\n",
       "      <td>0.0</td>\n",
       "      <td>0.0</td>\n",
       "      <td>0.0</td>\n",
       "      <td>0.0</td>\n",
       "      <td>0.0</td>\n",
       "      <td>0.0</td>\n",
       "      <td>0.0</td>\n",
       "      <td>...</td>\n",
       "      <td>0</td>\n",
       "      <td>0.0</td>\n",
       "      <td>9.0</td>\n",
       "      <td>2016.0</td>\n",
       "      <td>9.0</td>\n",
       "      <td>0.00</td>\n",
       "      <td>0</td>\n",
       "      <td>0.0</td>\n",
       "      <td>0.0</td>\n",
       "      <td>91302</td>\n",
       "    </tr>\n",
       "    <tr>\n",
       "      <th>1</th>\n",
       "      <td>10759547</td>\n",
       "      <td>0.0</td>\n",
       "      <td>0.0</td>\n",
       "      <td>0.0</td>\n",
       "      <td>0.0</td>\n",
       "      <td>0.0</td>\n",
       "      <td>0.0</td>\n",
       "      <td>0.0</td>\n",
       "      <td>0.0</td>\n",
       "      <td>0.0</td>\n",
       "      <td>...</td>\n",
       "      <td>0</td>\n",
       "      <td>0.0</td>\n",
       "      <td>27516.0</td>\n",
       "      <td>2015.0</td>\n",
       "      <td>27516.0</td>\n",
       "      <td>0.00</td>\n",
       "      <td>0</td>\n",
       "      <td>0.0</td>\n",
       "      <td>0.0</td>\n",
       "      <td>91302</td>\n",
       "    </tr>\n",
       "    <tr>\n",
       "      <th>2</th>\n",
       "      <td>10843547</td>\n",
       "      <td>0.0</td>\n",
       "      <td>0.0</td>\n",
       "      <td>0.0</td>\n",
       "      <td>0.0</td>\n",
       "      <td>0.0</td>\n",
       "      <td>5.0</td>\n",
       "      <td>0.0</td>\n",
       "      <td>0.0</td>\n",
       "      <td>0.0</td>\n",
       "      <td>...</td>\n",
       "      <td>0</td>\n",
       "      <td>660680.0</td>\n",
       "      <td>1434941.0</td>\n",
       "      <td>2016.0</td>\n",
       "      <td>774261.0</td>\n",
       "      <td>20800.37</td>\n",
       "      <td>0</td>\n",
       "      <td>0.0</td>\n",
       "      <td>0.0</td>\n",
       "      <td>90230</td>\n",
       "    </tr>\n",
       "    <tr>\n",
       "      <th>3</th>\n",
       "      <td>10859147</td>\n",
       "      <td>0.0</td>\n",
       "      <td>0.0</td>\n",
       "      <td>0.0</td>\n",
       "      <td>0.0</td>\n",
       "      <td>0.0</td>\n",
       "      <td>3.0</td>\n",
       "      <td>6.0</td>\n",
       "      <td>0.0</td>\n",
       "      <td>0.0</td>\n",
       "      <td>...</td>\n",
       "      <td>0</td>\n",
       "      <td>580059.0</td>\n",
       "      <td>1174475.0</td>\n",
       "      <td>2016.0</td>\n",
       "      <td>594416.0</td>\n",
       "      <td>14557.57</td>\n",
       "      <td>0</td>\n",
       "      <td>0.0</td>\n",
       "      <td>0.0</td>\n",
       "      <td>91423</td>\n",
       "    </tr>\n",
       "    <tr>\n",
       "      <th>4</th>\n",
       "      <td>10879947</td>\n",
       "      <td>0.0</td>\n",
       "      <td>0.0</td>\n",
       "      <td>0.0</td>\n",
       "      <td>0.0</td>\n",
       "      <td>0.0</td>\n",
       "      <td>4.0</td>\n",
       "      <td>0.0</td>\n",
       "      <td>0.0</td>\n",
       "      <td>0.0</td>\n",
       "      <td>...</td>\n",
       "      <td>0</td>\n",
       "      <td>196751.0</td>\n",
       "      <td>440101.0</td>\n",
       "      <td>2016.0</td>\n",
       "      <td>243350.0</td>\n",
       "      <td>5725.17</td>\n",
       "      <td>0</td>\n",
       "      <td>0.0</td>\n",
       "      <td>0.0</td>\n",
       "      <td>91605</td>\n",
       "    </tr>\n",
       "  </tbody>\n",
       "</table>\n",
       "<p>5 rows × 59 columns</p>\n",
       "</div>"
      ],
      "text/plain": [
       "   parcelid  airconditioningtypeid  architecturalstyletypeid  basementsqft  \\\n",
       "0  10754147                    0.0                       0.0           0.0   \n",
       "1  10759547                    0.0                       0.0           0.0   \n",
       "2  10843547                    0.0                       0.0           0.0   \n",
       "3  10859147                    0.0                       0.0           0.0   \n",
       "4  10879947                    0.0                       0.0           0.0   \n",
       "\n",
       "   bathroomcnt  bedroomcnt  buildingclasstypeid  buildingqualitytypeid  \\\n",
       "0          0.0         0.0                  0.0                    0.0   \n",
       "1          0.0         0.0                  0.0                    0.0   \n",
       "2          0.0         0.0                  5.0                    0.0   \n",
       "3          0.0         0.0                  3.0                    6.0   \n",
       "4          0.0         0.0                  4.0                    0.0   \n",
       "\n",
       "   calculatedbathnbr  decktypeid   ...     fireplaceflag  \\\n",
       "0                0.0         0.0   ...                 0   \n",
       "1                0.0         0.0   ...                 0   \n",
       "2                0.0         0.0   ...                 0   \n",
       "3                0.0         0.0   ...                 0   \n",
       "4                0.0         0.0   ...                 0   \n",
       "\n",
       "   structuretaxvaluedollarcnt  taxvaluedollarcnt  assessmentyear  \\\n",
       "0                         0.0                9.0          2016.0   \n",
       "1                         0.0            27516.0          2015.0   \n",
       "2                    660680.0          1434941.0          2016.0   \n",
       "3                    580059.0          1174475.0          2016.0   \n",
       "4                    196751.0           440101.0          2016.0   \n",
       "\n",
       "   landtaxvaluedollarcnt  taxamount  taxdelinquencyflag  taxdelinquencyyear  \\\n",
       "0                    9.0       0.00                   0                 0.0   \n",
       "1                27516.0       0.00                   0                 0.0   \n",
       "2               774261.0   20800.37                   0                 0.0   \n",
       "3               594416.0   14557.57                   0                 0.0   \n",
       "4               243350.0    5725.17                   0                 0.0   \n",
       "\n",
       "   censustractandblock  ZipCode  \n",
       "0                  0.0    91302  \n",
       "1                  0.0    91302  \n",
       "2                  0.0    90230  \n",
       "3                  0.0    91423  \n",
       "4                  0.0    91605  \n",
       "\n",
       "[5 rows x 59 columns]"
      ]
     },
     "execution_count": 58,
     "metadata": {},
     "output_type": "execute_result"
    }
   ],
   "source": [
    "prop_org_dataset.head()"
   ]
  },
  {
   "cell_type": "code",
   "execution_count": 70,
   "metadata": {},
   "outputs": [
    {
     "data": {
      "text/plain": [
       "ID              int64\n",
       "City           object\n",
       "Assault       float64\n",
       "Robbery       float64\n",
       "Homicide      float64\n",
       "Burglary      float64\n",
       "Auto Theft    float64\n",
       "Larceny       float64\n",
       "Population      int64\n",
       "CrimeRate     float64\n",
       "latitude      float64\n",
       "longitude     float64\n",
       "ZipCode         int32\n",
       "dtype: object"
      ]
     },
     "execution_count": 70,
     "metadata": {},
     "output_type": "execute_result"
    }
   ],
   "source": [
    "crime_dataset['ZipCode']=pd.to_numeric(crime_dataset['ZipCode']).astype(int)\n",
    "crime_dataset.dtypes"
   ]
  },
  {
   "cell_type": "code",
   "execution_count": 71,
   "metadata": {},
   "outputs": [],
   "source": [
    "######## Merging the properties file with crime dataset ####################\n",
    "\n",
    "external_merged=merge_closest(prop_org_dataset,crime_dataset,'ZipCode','ZipCode',include_cols='CrimeRate')"
   ]
  },
  {
   "cell_type": "code",
   "execution_count": 72,
   "metadata": {},
   "outputs": [
    {
     "data": {
      "text/html": [
       "<div>\n",
       "<style>\n",
       "    .dataframe thead tr:only-child th {\n",
       "        text-align: right;\n",
       "    }\n",
       "\n",
       "    .dataframe thead th {\n",
       "        text-align: left;\n",
       "    }\n",
       "\n",
       "    .dataframe tbody tr th {\n",
       "        vertical-align: top;\n",
       "    }\n",
       "</style>\n",
       "<table border=\"1\" class=\"dataframe\">\n",
       "  <thead>\n",
       "    <tr style=\"text-align: right;\">\n",
       "      <th></th>\n",
       "      <th>parcelid</th>\n",
       "      <th>airconditioningtypeid</th>\n",
       "      <th>architecturalstyletypeid</th>\n",
       "      <th>basementsqft</th>\n",
       "      <th>bathroomcnt</th>\n",
       "      <th>bedroomcnt</th>\n",
       "      <th>buildingclasstypeid</th>\n",
       "      <th>buildingqualitytypeid</th>\n",
       "      <th>calculatedbathnbr</th>\n",
       "      <th>decktypeid</th>\n",
       "      <th>...</th>\n",
       "      <th>structuretaxvaluedollarcnt</th>\n",
       "      <th>taxvaluedollarcnt</th>\n",
       "      <th>assessmentyear</th>\n",
       "      <th>landtaxvaluedollarcnt</th>\n",
       "      <th>taxamount</th>\n",
       "      <th>taxdelinquencyflag</th>\n",
       "      <th>taxdelinquencyyear</th>\n",
       "      <th>censustractandblock</th>\n",
       "      <th>ZipCode</th>\n",
       "      <th>CrimeRate</th>\n",
       "    </tr>\n",
       "  </thead>\n",
       "  <tbody>\n",
       "    <tr>\n",
       "      <th>0</th>\n",
       "      <td>10754147</td>\n",
       "      <td>0.0</td>\n",
       "      <td>0.0</td>\n",
       "      <td>0.0</td>\n",
       "      <td>0.0</td>\n",
       "      <td>0.0</td>\n",
       "      <td>0.0</td>\n",
       "      <td>0.0</td>\n",
       "      <td>0.0</td>\n",
       "      <td>0.0</td>\n",
       "      <td>...</td>\n",
       "      <td>0.0</td>\n",
       "      <td>9.0</td>\n",
       "      <td>2016.0</td>\n",
       "      <td>9.0</td>\n",
       "      <td>0.00</td>\n",
       "      <td>0</td>\n",
       "      <td>0.0</td>\n",
       "      <td>0.0</td>\n",
       "      <td>91302</td>\n",
       "      <td>26.88</td>\n",
       "    </tr>\n",
       "    <tr>\n",
       "      <th>1</th>\n",
       "      <td>10759547</td>\n",
       "      <td>0.0</td>\n",
       "      <td>0.0</td>\n",
       "      <td>0.0</td>\n",
       "      <td>0.0</td>\n",
       "      <td>0.0</td>\n",
       "      <td>0.0</td>\n",
       "      <td>0.0</td>\n",
       "      <td>0.0</td>\n",
       "      <td>0.0</td>\n",
       "      <td>...</td>\n",
       "      <td>0.0</td>\n",
       "      <td>27516.0</td>\n",
       "      <td>2015.0</td>\n",
       "      <td>27516.0</td>\n",
       "      <td>0.00</td>\n",
       "      <td>0</td>\n",
       "      <td>0.0</td>\n",
       "      <td>0.0</td>\n",
       "      <td>91302</td>\n",
       "      <td>26.88</td>\n",
       "    </tr>\n",
       "    <tr>\n",
       "      <th>2</th>\n",
       "      <td>10843547</td>\n",
       "      <td>0.0</td>\n",
       "      <td>0.0</td>\n",
       "      <td>0.0</td>\n",
       "      <td>0.0</td>\n",
       "      <td>0.0</td>\n",
       "      <td>5.0</td>\n",
       "      <td>0.0</td>\n",
       "      <td>0.0</td>\n",
       "      <td>0.0</td>\n",
       "      <td>...</td>\n",
       "      <td>660680.0</td>\n",
       "      <td>1434941.0</td>\n",
       "      <td>2016.0</td>\n",
       "      <td>774261.0</td>\n",
       "      <td>20800.37</td>\n",
       "      <td>0</td>\n",
       "      <td>0.0</td>\n",
       "      <td>0.0</td>\n",
       "      <td>90230</td>\n",
       "      <td>249.23</td>\n",
       "    </tr>\n",
       "    <tr>\n",
       "      <th>3</th>\n",
       "      <td>10859147</td>\n",
       "      <td>0.0</td>\n",
       "      <td>0.0</td>\n",
       "      <td>0.0</td>\n",
       "      <td>0.0</td>\n",
       "      <td>0.0</td>\n",
       "      <td>3.0</td>\n",
       "      <td>6.0</td>\n",
       "      <td>0.0</td>\n",
       "      <td>0.0</td>\n",
       "      <td>...</td>\n",
       "      <td>580059.0</td>\n",
       "      <td>1174475.0</td>\n",
       "      <td>2016.0</td>\n",
       "      <td>594416.0</td>\n",
       "      <td>14557.57</td>\n",
       "      <td>0</td>\n",
       "      <td>0.0</td>\n",
       "      <td>0.0</td>\n",
       "      <td>91423</td>\n",
       "      <td>45.80</td>\n",
       "    </tr>\n",
       "    <tr>\n",
       "      <th>4</th>\n",
       "      <td>10879947</td>\n",
       "      <td>0.0</td>\n",
       "      <td>0.0</td>\n",
       "      <td>0.0</td>\n",
       "      <td>0.0</td>\n",
       "      <td>0.0</td>\n",
       "      <td>4.0</td>\n",
       "      <td>0.0</td>\n",
       "      <td>0.0</td>\n",
       "      <td>0.0</td>\n",
       "      <td>...</td>\n",
       "      <td>196751.0</td>\n",
       "      <td>440101.0</td>\n",
       "      <td>2016.0</td>\n",
       "      <td>243350.0</td>\n",
       "      <td>5725.17</td>\n",
       "      <td>0</td>\n",
       "      <td>0.0</td>\n",
       "      <td>0.0</td>\n",
       "      <td>91605</td>\n",
       "      <td>63.53</td>\n",
       "    </tr>\n",
       "  </tbody>\n",
       "</table>\n",
       "<p>5 rows × 60 columns</p>\n",
       "</div>"
      ],
      "text/plain": [
       "   parcelid  airconditioningtypeid  architecturalstyletypeid  basementsqft  \\\n",
       "0  10754147                    0.0                       0.0           0.0   \n",
       "1  10759547                    0.0                       0.0           0.0   \n",
       "2  10843547                    0.0                       0.0           0.0   \n",
       "3  10859147                    0.0                       0.0           0.0   \n",
       "4  10879947                    0.0                       0.0           0.0   \n",
       "\n",
       "   bathroomcnt  bedroomcnt  buildingclasstypeid  buildingqualitytypeid  \\\n",
       "0          0.0         0.0                  0.0                    0.0   \n",
       "1          0.0         0.0                  0.0                    0.0   \n",
       "2          0.0         0.0                  5.0                    0.0   \n",
       "3          0.0         0.0                  3.0                    6.0   \n",
       "4          0.0         0.0                  4.0                    0.0   \n",
       "\n",
       "   calculatedbathnbr  decktypeid    ...      structuretaxvaluedollarcnt  \\\n",
       "0                0.0         0.0    ...                             0.0   \n",
       "1                0.0         0.0    ...                             0.0   \n",
       "2                0.0         0.0    ...                        660680.0   \n",
       "3                0.0         0.0    ...                        580059.0   \n",
       "4                0.0         0.0    ...                        196751.0   \n",
       "\n",
       "   taxvaluedollarcnt  assessmentyear  landtaxvaluedollarcnt  taxamount  \\\n",
       "0                9.0          2016.0                    9.0       0.00   \n",
       "1            27516.0          2015.0                27516.0       0.00   \n",
       "2          1434941.0          2016.0               774261.0   20800.37   \n",
       "3          1174475.0          2016.0               594416.0   14557.57   \n",
       "4           440101.0          2016.0               243350.0    5725.17   \n",
       "\n",
       "   taxdelinquencyflag  taxdelinquencyyear  censustractandblock  ZipCode  \\\n",
       "0                   0                 0.0                  0.0    91302   \n",
       "1                   0                 0.0                  0.0    91302   \n",
       "2                   0                 0.0                  0.0    90230   \n",
       "3                   0                 0.0                  0.0    91423   \n",
       "4                   0                 0.0                  0.0    91605   \n",
       "\n",
       "   CrimeRate  \n",
       "0      26.88  \n",
       "1      26.88  \n",
       "2     249.23  \n",
       "3      45.80  \n",
       "4      63.53  \n",
       "\n",
       "[5 rows x 60 columns]"
      ]
     },
     "execution_count": 72,
     "metadata": {},
     "output_type": "execute_result"
    }
   ],
   "source": [
    "external_merged.head()"
   ]
  },
  {
   "cell_type": "markdown",
   "metadata": {},
   "source": [
    "###### EXTERNAL DATA #######\n",
    "\n",
    "We used crime data as our external data set. \n",
    "\n",
    "We found a crime report for entire Southern California for this year 2015.\n",
    "\n",
    "http://ilssc.soceco.uci.edu/files/2017/02/ILSSC_SoCal_Crime_Report_2015.pdf\n",
    "\n",
    "This report included various statistics regarding the crimes in Southern California broken down to the level of counties and cities further. For every city in the county the different crime rates were analysed based on the population.\n",
    "\n",
    "We collected the data for Los Angeles, Orange and Ventura counties from this report. Assuming  that there is not much change in the crime rate in 2 years, we used the data of this report which was an analysis for the year 2015.\n",
    "Mapping the external data to properties file and training dataset.\n",
    "\n",
    "\n",
    "We used the geopy API by google to get the geo location of the cities( of the three counties) for the crime rate data. Using the geo location we got the zip codes for all the cities. We used US zipcode api to get the zip codes based on location.\n",
    "Correcting the zipcodes in properties file.\n",
    "\n",
    "The properties file doesnot contain the correct zip codes but the Kaggle website has the mapping to the actual zipcodes. We used the Kaggle API to get the region related details and replaced the zipcodes in properties files with the correct ones.\n",
    "\n",
    "Now we compared the zip codes from properties file and crime data file and added the crime data to the properties file. \n",
    "\n"
   ]
  },
  {
   "cell_type": "code",
   "execution_count": 73,
   "metadata": {},
   "outputs": [
    {
     "data": {
      "text/html": [
       "<div>\n",
       "<style>\n",
       "    .dataframe thead tr:only-child th {\n",
       "        text-align: right;\n",
       "    }\n",
       "\n",
       "    .dataframe thead th {\n",
       "        text-align: left;\n",
       "    }\n",
       "\n",
       "    .dataframe tbody tr th {\n",
       "        vertical-align: top;\n",
       "    }\n",
       "</style>\n",
       "<table border=\"1\" class=\"dataframe\">\n",
       "  <thead>\n",
       "    <tr style=\"text-align: right;\">\n",
       "      <th></th>\n",
       "      <th>parcelid</th>\n",
       "      <th>airconditioningtypeid</th>\n",
       "      <th>architecturalstyletypeid</th>\n",
       "      <th>basementsqft</th>\n",
       "      <th>bathroomcnt</th>\n",
       "      <th>bedroomcnt</th>\n",
       "      <th>buildingclasstypeid</th>\n",
       "      <th>buildingqualitytypeid</th>\n",
       "      <th>calculatedbathnbr</th>\n",
       "      <th>decktypeid</th>\n",
       "      <th>...</th>\n",
       "      <th>structuretaxvaluedollarcnt</th>\n",
       "      <th>taxvaluedollarcnt</th>\n",
       "      <th>assessmentyear</th>\n",
       "      <th>landtaxvaluedollarcnt</th>\n",
       "      <th>taxamount</th>\n",
       "      <th>taxdelinquencyflag</th>\n",
       "      <th>taxdelinquencyyear</th>\n",
       "      <th>censustractandblock</th>\n",
       "      <th>ZipCode</th>\n",
       "      <th>CrimeRate</th>\n",
       "    </tr>\n",
       "  </thead>\n",
       "  <tbody>\n",
       "    <tr>\n",
       "      <th>0</th>\n",
       "      <td>10754147</td>\n",
       "      <td>0.0</td>\n",
       "      <td>0.0</td>\n",
       "      <td>0.0</td>\n",
       "      <td>2.0</td>\n",
       "      <td>3.0</td>\n",
       "      <td>0.0</td>\n",
       "      <td>0.0</td>\n",
       "      <td>0.0</td>\n",
       "      <td>0.0</td>\n",
       "      <td>...</td>\n",
       "      <td>175370.0</td>\n",
       "      <td>9.0</td>\n",
       "      <td>2016.0</td>\n",
       "      <td>9.0</td>\n",
       "      <td>5367.00</td>\n",
       "      <td>0</td>\n",
       "      <td>0.0</td>\n",
       "      <td>0.0</td>\n",
       "      <td>91302</td>\n",
       "      <td>26.88</td>\n",
       "    </tr>\n",
       "    <tr>\n",
       "      <th>1</th>\n",
       "      <td>10759547</td>\n",
       "      <td>0.0</td>\n",
       "      <td>0.0</td>\n",
       "      <td>0.0</td>\n",
       "      <td>2.0</td>\n",
       "      <td>3.0</td>\n",
       "      <td>0.0</td>\n",
       "      <td>0.0</td>\n",
       "      <td>0.0</td>\n",
       "      <td>0.0</td>\n",
       "      <td>...</td>\n",
       "      <td>175370.0</td>\n",
       "      <td>27516.0</td>\n",
       "      <td>2015.0</td>\n",
       "      <td>27516.0</td>\n",
       "      <td>5367.00</td>\n",
       "      <td>0</td>\n",
       "      <td>0.0</td>\n",
       "      <td>0.0</td>\n",
       "      <td>91302</td>\n",
       "      <td>26.88</td>\n",
       "    </tr>\n",
       "    <tr>\n",
       "      <th>2</th>\n",
       "      <td>10843547</td>\n",
       "      <td>0.0</td>\n",
       "      <td>0.0</td>\n",
       "      <td>0.0</td>\n",
       "      <td>2.0</td>\n",
       "      <td>3.0</td>\n",
       "      <td>5.0</td>\n",
       "      <td>0.0</td>\n",
       "      <td>0.0</td>\n",
       "      <td>0.0</td>\n",
       "      <td>...</td>\n",
       "      <td>660680.0</td>\n",
       "      <td>1434941.0</td>\n",
       "      <td>2016.0</td>\n",
       "      <td>774261.0</td>\n",
       "      <td>20800.37</td>\n",
       "      <td>0</td>\n",
       "      <td>0.0</td>\n",
       "      <td>0.0</td>\n",
       "      <td>90230</td>\n",
       "      <td>249.23</td>\n",
       "    </tr>\n",
       "    <tr>\n",
       "      <th>3</th>\n",
       "      <td>10859147</td>\n",
       "      <td>0.0</td>\n",
       "      <td>0.0</td>\n",
       "      <td>0.0</td>\n",
       "      <td>2.0</td>\n",
       "      <td>3.0</td>\n",
       "      <td>3.0</td>\n",
       "      <td>6.0</td>\n",
       "      <td>0.0</td>\n",
       "      <td>0.0</td>\n",
       "      <td>...</td>\n",
       "      <td>580059.0</td>\n",
       "      <td>1174475.0</td>\n",
       "      <td>2016.0</td>\n",
       "      <td>594416.0</td>\n",
       "      <td>14557.57</td>\n",
       "      <td>0</td>\n",
       "      <td>0.0</td>\n",
       "      <td>0.0</td>\n",
       "      <td>91423</td>\n",
       "      <td>45.80</td>\n",
       "    </tr>\n",
       "    <tr>\n",
       "      <th>4</th>\n",
       "      <td>10879947</td>\n",
       "      <td>0.0</td>\n",
       "      <td>0.0</td>\n",
       "      <td>0.0</td>\n",
       "      <td>2.0</td>\n",
       "      <td>3.0</td>\n",
       "      <td>4.0</td>\n",
       "      <td>0.0</td>\n",
       "      <td>0.0</td>\n",
       "      <td>0.0</td>\n",
       "      <td>...</td>\n",
       "      <td>196751.0</td>\n",
       "      <td>440101.0</td>\n",
       "      <td>2016.0</td>\n",
       "      <td>243350.0</td>\n",
       "      <td>5725.17</td>\n",
       "      <td>0</td>\n",
       "      <td>0.0</td>\n",
       "      <td>0.0</td>\n",
       "      <td>91605</td>\n",
       "      <td>63.53</td>\n",
       "    </tr>\n",
       "  </tbody>\n",
       "</table>\n",
       "<p>5 rows × 60 columns</p>\n",
       "</div>"
      ],
      "text/plain": [
       "   parcelid  airconditioningtypeid  architecturalstyletypeid  basementsqft  \\\n",
       "0  10754147                    0.0                       0.0           0.0   \n",
       "1  10759547                    0.0                       0.0           0.0   \n",
       "2  10843547                    0.0                       0.0           0.0   \n",
       "3  10859147                    0.0                       0.0           0.0   \n",
       "4  10879947                    0.0                       0.0           0.0   \n",
       "\n",
       "   bathroomcnt  bedroomcnt  buildingclasstypeid  buildingqualitytypeid  \\\n",
       "0          2.0         3.0                  0.0                    0.0   \n",
       "1          2.0         3.0                  0.0                    0.0   \n",
       "2          2.0         3.0                  5.0                    0.0   \n",
       "3          2.0         3.0                  3.0                    6.0   \n",
       "4          2.0         3.0                  4.0                    0.0   \n",
       "\n",
       "   calculatedbathnbr  decktypeid    ...      structuretaxvaluedollarcnt  \\\n",
       "0                0.0         0.0    ...                        175370.0   \n",
       "1                0.0         0.0    ...                        175370.0   \n",
       "2                0.0         0.0    ...                        660680.0   \n",
       "3                0.0         0.0    ...                        580059.0   \n",
       "4                0.0         0.0    ...                        196751.0   \n",
       "\n",
       "   taxvaluedollarcnt  assessmentyear  landtaxvaluedollarcnt  taxamount  \\\n",
       "0                9.0          2016.0                    9.0    5367.00   \n",
       "1            27516.0          2015.0                27516.0    5367.00   \n",
       "2          1434941.0          2016.0               774261.0   20800.37   \n",
       "3          1174475.0          2016.0               594416.0   14557.57   \n",
       "4           440101.0          2016.0               243350.0    5725.17   \n",
       "\n",
       "   taxdelinquencyflag  taxdelinquencyyear  censustractandblock  ZipCode  \\\n",
       "0                   0                 0.0                  0.0    91302   \n",
       "1                   0                 0.0                  0.0    91302   \n",
       "2                   0                 0.0                  0.0    90230   \n",
       "3                   0                 0.0                  0.0    91423   \n",
       "4                   0                 0.0                  0.0    91605   \n",
       "\n",
       "   CrimeRate  \n",
       "0      26.88  \n",
       "1      26.88  \n",
       "2     249.23  \n",
       "3      45.80  \n",
       "4      63.53  \n",
       "\n",
       "[5 rows x 60 columns]"
      ]
     },
     "execution_count": 73,
     "metadata": {},
     "output_type": "execute_result"
    }
   ],
   "source": [
    "################## Cleaning Data####################\n",
    "## As lot of data missing, we replaced the missing data with mean and mode values of the respective columns.\n",
    "\n",
    "bdc_mode = int(external_merged[\"bedroomcnt\"].mode())\n",
    "external_merged.loc[external_merged.bedroomcnt == 0, 'bedroomcnt'] = bdc_mode\n",
    "\n",
    "ns_mode = int(external_merged[\"numberofstories\"].mode())\n",
    "external_merged.loc[external_merged.numberofstories == 0, 'numberofstories'] = ns_mode\n",
    "\n",
    "rn_mode = int(external_merged[\"regionidneighborhood\"].mode())\n",
    "external_merged.loc[external_merged.regionidneighborhood == 0, 'regionidneighborhood'] = rn_mode\n",
    "\n",
    "uc_mode = int(external_merged[\"unitcnt\"].mode())\n",
    "external_merged.loc[external_merged.unitcnt == 0, 'unitcnt'] = uc_mode\n",
    "\n",
    "plt_mode = int(external_merged[\"propertylandusetypeid\"].mode())\n",
    "external_merged.loc[external_merged.propertylandusetypeid == 0, 'propertylandusetypeid'] = plt_mode\n",
    "\n",
    "btc_mode = int(external_merged[\"bathroomcnt\"].mode())\n",
    "external_merged.loc[external_merged.bathroomcnt == 0, 'bathroomcnt'] = btc_mode\n",
    "\n",
    "tv_mean = int(external_merged[\"taxvaluedollarcnt\"].mean())\n",
    "external_merged.loc[external_merged.taxvaluedollarcnt == 0, 'taxvaluedollarcnt'] = tv_mean\n",
    "\n",
    "cfs_mean = int(external_merged[\"calculatedfinishedsquarefeet\"].mean())\n",
    "external_merged.loc[external_merged.calculatedfinishedsquarefeet == 0, 'calculatedfinishedsquarefeet'] = cfs_mean\n",
    "\n",
    "svc_mean = int(external_merged[\"structuretaxvaluedollarcnt\"].mean())\n",
    "external_merged.loc[external_merged.structuretaxvaluedollarcnt == 0, 'structuretaxvaluedollarcnt'] = svc_mean\n",
    "\n",
    "lss_mean = int(external_merged[\"lotsizesquarefeet\"].mean())\n",
    "external_merged.loc[external_merged.lotsizesquarefeet == 0, 'lotsizesquarefeet'] = lss_mean\n",
    "\n",
    "fss_mean = int(external_merged[\"finishedsquarefeet12\"].mean())\n",
    "external_merged.loc[external_merged.finishedsquarefeet12 == 0, 'finishedsquarefeet12'] = fss_mean\n",
    "\n",
    "fss2_mean = int(external_merged[\"finishedsquarefeet15\"].mean())\n",
    "external_merged.loc[external_merged.finishedsquarefeet15 == 0, 'finishedsquarefeet15'] = fss2_mean\n",
    "\n",
    "ltv_mean = int(external_merged[\"landtaxvaluedollarcnt\"].mean())\n",
    "external_merged.loc[external_merged.landtaxvaluedollarcnt == 0, 'landtaxvaluedollarcnt'] = ltv_mean\n",
    "\n",
    "ta_mean = int(external_merged[\"taxamount\"].mean())\n",
    "external_merged.loc[external_merged.taxamount == 0, 'taxamount'] = ta_mean\n",
    "\n",
    "        \n",
    "desred_decimals = 2    \n",
    "external_merged['CrimeRate'] =  external_merged['CrimeRate'].apply(lambda x: round(x,desred_decimals))\n",
    "external_merged.head()\n"
   ]
  },
  {
   "cell_type": "code",
   "execution_count": 75,
   "metadata": {},
   "outputs": [
    {
     "data": {
      "text/plain": [
       "(77613, 62)"
      ]
     },
     "execution_count": 75,
     "metadata": {},
     "output_type": "execute_result"
    }
   ],
   "source": [
    "############ Merging the properties file with Train Dataset ###########\n",
    "external_merged_train=external_merged.merge(train_dataset,on='parcelid')\n",
    "external_merged_train.shape"
   ]
  },
  {
   "cell_type": "markdown",
   "metadata": {},
   "source": [
    "###### QUESTION 5 #######\n",
    "\n",
    "###### PREDICTION MODEL ######"
   ]
  },
  {
   "cell_type": "code",
   "execution_count": 76,
   "metadata": {},
   "outputs": [],
   "source": [
    "from sklearn import datasets, linear_model\n",
    "from sklearn.metrics import mean_squared_error, r2_score\n",
    "\n",
    "#We will take the best features from the properties based on the co relation graphs i.e heat map and bar plot plotted above\n",
    "train = external_merged_train.copy()\n",
    "train = train.filter(['calculatedfinishedsquarefeet','latitude','longitude','CrimeRate','ZipCode','propertylandusetypeid',\n",
    "                      'finishedsquarefeet12','taxvaluedollarcnt','yearbuilt','taxamount','lotsizesquarefeet'\n",
    "                      ,'structuretaxvaluedollarcnt'])\n",
    "\n",
    "train.fillna(0, inplace=True)\n",
    "# Taking train dataset as 89275 rows and remaining 1000 rows are test dataset\n",
    "train_Y = external_merged_train[['logerror']][:70000]\n",
    "train_X = train[:70000]\n",
    "test_X = train[70000:]\n",
    "\n",
    "test_Y = external_merged_train[['logerror']][70000:]"
   ]
  },
  {
   "cell_type": "code",
   "execution_count": 77,
   "metadata": {},
   "outputs": [
    {
     "name": "stdout",
     "output_type": "stream",
     "text": [
      "Coefficients: \n",
      " [[  9.97673381e-07  -6.11190236e-09   5.37498740e-09   1.47647992e-05\n",
      "    1.23177724e-06  -9.93479590e-05   1.39986182e-05   1.46655889e-08\n",
      "   -1.06576794e-05  -1.72188496e-06   2.51979495e-08  -2.23753731e-08]]\n",
      "Mean squared error: 0.024798\n",
      "Variance score: -0.202351\n"
     ]
    }
   ],
   "source": [
    "#### LINEAR REGRESSION for predicting log error\n",
    "\n",
    "linear_reg=linear_model.LinearRegression()\n",
    "\n",
    "linear_reg.fit(train_X,train_Y)\n",
    "test_Y_predict=linear_reg.predict(test_X)\n",
    "\n",
    "# The coefficients\n",
    "print('Coefficients: \\n', linear_reg.coef_)\n",
    "# The mean squared error\n",
    "print(\"Mean squared error: %f\"\n",
    "      % mean_squared_error(test_Y, test_Y_predict))\n",
    "# Explained variance score\n",
    "print('Variance score: %f' % r2_score(test_Y, test_Y_predict))\n",
    "\n",
    "#print ('Score : %f' % linear_reg.score(test_Y,test_Y_predict))\n"
   ]
  },
  {
   "cell_type": "code",
   "execution_count": 78,
   "metadata": {},
   "outputs": [
    {
     "data": {
      "text/plain": [
       "<matplotlib.collections.PathCollection at 0x1bc712b2400>"
      ]
     },
     "execution_count": 78,
     "metadata": {},
     "output_type": "execute_result"
    },
    {
     "data": {
      "image/png": "[encoded data removed]",
      "text/plain": [
       "<matplotlib.figure.Figure at 0x1bc713276a0>"
      ]
     },
     "metadata": {},
     "output_type": "display_data"
    }
   ],
   "source": [
    "plt.figure(figsize = (12,12))\n",
    "plt.scatter(external_merged_train.CrimeRate,external_merged_train.logerror)"
   ]
  },
  {
   "cell_type": "markdown",
   "metadata": {},
   "source": [
    "###### above graph shoes the co relatioon of crime rate with log error\n"
   ]
  },
  {
   "cell_type": "code",
   "execution_count": 82,
   "metadata": {},
   "outputs": [],
   "source": [
    "train_full_Y = external_merged_train[['logerror']]\n",
    "linear_reg.fit(train,train_full_Y)\n",
    "external_merged.fillna(0,inplace=True)\n",
    "external_merge_sample =  external_merged.filter(['calculatedfinishedsquarefeet','latitude','longitude','CrimeRate','ZipCode','propertylandusetypeid',\n",
    "                      'finishedsquarefeet12','taxvaluedollarcnt','yearbuilt','taxamount','lotsizesquarefeet'\n",
    "                      ,'structuretaxvaluedollarcnt'])\n",
    "sample_logerror=linear_reg.predict(external_merge_sample)"
   ]
  },
  {
   "cell_type": "code",
   "execution_count": 83,
   "metadata": {},
   "outputs": [
    {
     "data": {
      "text/plain": [
       "(2985217, 1)"
      ]
     },
     "execution_count": 83,
     "metadata": {},
     "output_type": "execute_result"
    }
   ],
   "source": [
    "sample_logerror.shape"
   ]
  },
  {
   "cell_type": "code",
   "execution_count": 84,
   "metadata": {},
   "outputs": [
    {
     "data": {
      "text/plain": [
       "(2985217, 7)"
      ]
     },
     "execution_count": 84,
     "metadata": {},
     "output_type": "execute_result"
    }
   ],
   "source": [
    "######### Question 5. Predicting Sample Values ########################################\n",
    "\n",
    "# Reading the sample file\n",
    "sample_df=pd.read_csv(\"input/sample_submission.csv\" ,low_memory=False)\n",
    "sample_df.shape"
   ]
  },
  {
   "cell_type": "code",
   "execution_count": 85,
   "metadata": {
    "collapsed": true
   },
   "outputs": [],
   "source": [
    "# Sample_df : dataframe containing the log errors for 2016 and 2017 stored in sample_submission.csv with parcel IDs\n",
    "# these log errors were predicted using the trainning data onoly train_2017 file\n",
    "\n",
    "sample_df['201610']=sample_logerror\n",
    "sample_df['201611']=sample_logerror\n",
    "sample_df['201612']=sample_logerror\n",
    "sample_df['201710']=sample_logerror\n",
    "sample_df['201711']=sample_logerror\n",
    "sample_df['201712']=sample_logerror\n",
    "\n",
    "sample_df.to_csv(\"input/sample_submission.csv\", index=False)"
   ]
  },
  {
   "cell_type": "code",
   "execution_count": 86,
   "metadata": {},
   "outputs": [
    {
     "data": {
      "text/plain": [
       "(167888, 62)"
      ]
     },
     "execution_count": 86,
     "metadata": {},
     "output_type": "execute_result"
    }
   ],
   "source": [
    "############ Merging with both the Train Dataset ###########\n",
    "# We merged both training data of log errors from train_2016 and train_2017 with the properties file and ran the linear regression \n",
    "\n",
    "train_2016 = pd.read_csv(\"input/train_2016_v2.csv\", low_memory=False)\n",
    "train_2017 = pd.read_csv(\"input/train_2017.csv\", low_memory=False)\n",
    "train_2016_2017=pd.concat([train_2016,train_2017])\n",
    "external_merged_train_v3=external_merged.merge(train_2016_2017,on='parcelid')\n",
    "external_merged_train_v3.shape"
   ]
  },
  {
   "cell_type": "code",
   "execution_count": 87,
   "metadata": {
    "collapsed": true
   },
   "outputs": [],
   "source": [
    "from sklearn import datasets, linear_model\n",
    "from sklearn.metrics import mean_squared_error, r2_score\n",
    "\n",
    "#We will take the best features from the properties based on the co relation graphs i.e heat map and bar plot plotted above\n",
    "train_v3 = external_merged_train_v3.copy()\n",
    "train_v3 = train_v3.filter(['calculatedfinishedsquarefeet','latitude','longitude','CrimeRate','propertylandusetypeid',\n",
    "                      'finishedsquarefeet12','lotsizesquarefeet','bedroomcnt','bathroomcnt','regionidzip'\n",
    "                      ,'structuretaxvaluedollarcnt','regionidcity','numberofstories','unitcnt','fips','taxdelinquencyyear'])\n",
    "\n",
    "train_v3.fillna(0, inplace=True)\n",
    "# Taking train dataset as 89275 rows and remaining 1000 rows are test dataset\n",
    "train_Y_v3 = external_merged_train_v3[['logerror']][:160000]\n",
    "train_X_v3 = train_v3[:160000]\n",
    "test_X_v3 = train_v3[160000:]\n",
    "test_Y_v3 = external_merged_train_v3[['logerror']][160000:]"
   ]
  },
  {
   "cell_type": "code",
   "execution_count": 88,
   "metadata": {},
   "outputs": [
    {
     "name": "stdout",
     "output_type": "stream",
     "text": [
      "Coefficients: \n",
      " [[  3.49988894e-06  -4.95774769e-10   4.22455056e-09  -4.01391197e-07\n",
      "    2.16095704e-04   9.76600569e-06   1.79279675e-08   1.58527932e-03\n",
      "   -1.87831941e-03  -2.78145220e-07  -2.72585597e-08   1.92217221e-09\n",
      "   -1.22202675e-03  -1.55271064e-04   7.93085825e-05   1.24776630e-03]]\n",
      "Mean squared error: 0.019996\n",
      "Variance score: -0.004781\n"
     ]
    }
   ],
   "source": [
    "linear_reg_v3=linear_model.LinearRegression()\n",
    "\n",
    "linear_reg_v3.fit(train_X_v3,train_Y_v3)\n",
    "test_Y_predict_v3=linear_reg_v3.predict(test_X_v3)\n",
    "\n",
    "# The coefficients\n",
    "print('Coefficients: \\n', linear_reg_v3.coef_)\n",
    "# The mean squared error\n",
    "print(\"Mean squared error: %f\"\n",
    "      % mean_squared_error(test_Y_v3, test_Y_predict_v3))\n",
    "# Explained variance score\n",
    "print('Variance score: %f' % r2_score(test_Y_v3, test_Y_predict_v3))\n"
   ]
  },
  {
   "cell_type": "code",
   "execution_count": 90,
   "metadata": {},
   "outputs": [
    {
     "data": {
      "text/plain": [
       "<matplotlib.collections.PathCollection at 0x1bc6e75ec50>"
      ]
     },
     "execution_count": 90,
     "metadata": {},
     "output_type": "execute_result"
    },
    {
     "data": {
      "image/png": "[encoded data removed]",
      "text/plain": [
       "<matplotlib.figure.Figure at 0x1bc8e112320>"
      ]
     },
     "metadata": {},
     "output_type": "display_data"
    }
   ],
   "source": [
    "plt.figure(figsize = (12,12))\n",
    "plt.scatter(external_merged_train_v3.CrimeRate,external_merged_train_v3.logerror)"
   ]
  },
  {
   "cell_type": "markdown",
   "metadata": {},
   "source": [
    "###### above graph shows the co relation of crime rate with log error ( using training data from 2016 and 2017 )"
   ]
  },
  {
   "cell_type": "code",
   "execution_count": 91,
   "metadata": {
    "collapsed": true
   },
   "outputs": [],
   "source": [
    "#Both the above plots satisfy the high corelation of these features with the log error\n",
    "\n",
    "train_full_Y_v3 = external_merged_train_v3[['logerror']]\n",
    "linear_reg_v3.fit(train_v3,train_full_Y_v3)\n",
    "external_merge_sample_v3 =  external_merged.filter(['calculatedfinishedsquarefeet','latitude','longitude','CrimeRate','propertylandusetypeid',\n",
    "                      'finishedsquarefeet12','lotsizesquarefeet','bedroomcnt','bathroomcnt','regionidzip'\n",
    "                      ,'structuretaxvaluedollarcnt','regionidcity','numberofstories','unitcnt','fips','taxdelinquencyyear'])\n",
    "sample_logerror_v3=linear_reg_v3.predict(external_merge_sample_v3)"
   ]
  },
  {
   "cell_type": "code",
   "execution_count": 92,
   "metadata": {
    "collapsed": true
   },
   "outputs": [],
   "source": [
    "# sample_df : data frame containing the log errors predicted. \n",
    "#These were predicted using the training data from train_2016 and train_2017\n",
    "\n",
    "sample_df['201610']=sample_logerror_v3\n",
    "sample_df['201611']=sample_logerror_v3\n",
    "sample_df['201612']=sample_logerror_v3\n",
    "sample_df['201710']=sample_logerror_v3\n",
    "sample_df['201711']=sample_logerror_v3\n",
    "sample_df['201712']=sample_logerror_v3\n",
    "\n",
    "sample_df.to_csv(\"input/sample_submission_3.0.csv\", index=False)"
   ]
  },
  {
   "cell_type": "markdown",
   "metadata": {},
   "source": [
    "Prediction model\n",
    "\n",
    "Data used for training\n",
    "\n",
    " The linear regression model has been used to predict the log error.We ran the linear regression twice.\n",
    " Features/properties used in the training data : Latitude, longitude, crime rate, structured tax value dollar count, number of stories, unit count, finished square feet12, lot size square feet, fips, bed room count , zipcode, calculated finished square feet, property land type use id, bathroom count.\n",
    "\n",
    "1. Using training data only from train_2017\n",
    "Mean squared error :0.024\n",
    "\n",
    "2. Using training data from train_2016 and train_2017\n",
    "Mean squared error : 0.019\n",
    "\n",
    "We used the properties file_2017 as it contains the updated data about the properties.\n",
    "The training files 2016,2017 which contained the log error values were combined and merged with properties file to use as training data.\n",
    "\n",
    "We can see that linear rergression performed better when the training data was more (i.e, whn both the trai files from 2016 and 2017 were combined)\n",
    "\n",
    "The score obtained on Kaggle Zillow : 0.065\n",
    "Rank : 2758\n"
   ]
  },
  {
   "cell_type": "markdown",
   "metadata": {},
   "source": [
    "###### Prediction Model 2 #######\n",
    "###### Random forests #######\n",
    "\n",
    "Apart from linear regression we also used Random forest regrerssor to predict the log errors "
   ]
  },
  {
   "cell_type": "code",
   "execution_count": 93,
   "metadata": {},
   "outputs": [
    {
     "name": "stdout",
     "output_type": "stream",
     "text": [
      "Coefficients: \n",
      " [ 0.09330529  0.16434759  0.15752856  0.03959675  0.01097257  0.0839246\n",
      "  0.13992948  0.03203906  0.02506028  0.20227553  0.03731753  0.00835401\n",
      "  0.00325212  0.00209664]\n",
      "Mean squared error: 0.022981\n",
      "Variance score: -0.154764\n"
     ]
    }
   ],
   "source": [
    "from sklearn.ensemble import RandomForestRegressor\n",
    "from sklearn.metrics import mean_squared_error, r2_score\n",
    "\n",
    "train_v4 = external_merged_train_v3.copy()\n",
    "# We will drop the features which had higher frequency of missing values along with the columns of train df for the test df\n",
    "train_v4 = train_v4.filter(['calculatedfinishedsquarefeet','latitude','longitude','CrimeRate','propertylandusetypeid',\n",
    "                      'finishedsquarefeet12','lotsizesquarefeet','bedroomcnt','bathroomcnt'\n",
    "                      ,'structuretaxvaluedollarcnt','regionidcity','numberofstories','unitcnt','fips'])\n",
    "\n",
    "train_X_v4 = train_v4[:160000]\n",
    "train_Y_v4= list(external_merged_train_v3['logerror'].values[:160000])\n",
    "test_X_v4 = train_v4[160000:]\n",
    "test_Y_v4 = external_merged_train_v3['logerror'].values[160000:]\n",
    "reg = RandomForestRegressor(n_jobs=3, random_state=0)\n",
    "reg.fit(train_X_v4,train_Y_v4)\n",
    "#predicting the log error values\n",
    "test_Y_reg = reg.predict(test_X_v4)\n",
    "# The coefficients\n",
    "print('Coefficients: \\n', reg.feature_importances_)\n",
    "# The mean squared error\n",
    "print(\"Mean squared error: %f\"\n",
    "      % mean_squared_error(test_Y_v4, test_Y_reg))\n",
    "# Explained variance score\n",
    "print('Variance score: %f' % r2_score(test_Y_v4, test_Y_reg))\n"
   ]
  },
  {
   "cell_type": "code",
   "execution_count": 97,
   "metadata": {},
   "outputs": [
    {
     "name": "stderr",
     "output_type": "stream",
     "text": [
      "C:\\Users\\mazsy\\Anaconda3\\lib\\site-packages\\ipykernel_launcher.py:3: DataConversionWarning: A column-vector y was passed when a 1d array was expected. Please change the shape of y to (n_samples,), for example using ravel().\n",
      "  This is separate from the ipykernel package so we can avoid doing imports until\n"
     ]
    }
   ],
   "source": [
    "# Predicting log error for all the samples using Random Regressor\n",
    "train_full_Y_v4 = external_merged_train_v3[['logerror']]\n",
    "reg.fit(train_v4,train_full_Y_v4)\n",
    "external_merge_sample_v4 =  external_merged.filter(['calculatedfinishedsquarefeet','latitude','longitude','CrimeRate','propertylandusetypeid',\n",
    "                      'finishedsquarefeet12','lotsizesquarefeet','bedroomcnt','bathroomcnt'\n",
    "                      ,'structuretaxvaluedollarcnt','regionidcity','numberofstories','unitcnt','fips'])\n",
    "sample_logerror_v4=reg.predict(external_merge_sample_v4)"
   ]
  },
  {
   "cell_type": "code",
   "execution_count": 98,
   "metadata": {
    "collapsed": true
   },
   "outputs": [],
   "source": [
    "#sample_submissio_4.1 contains the log error predicted using the random forest regressor\n",
    "\n",
    "sample_df['201610']=sample_logerror_v4\n",
    "sample_df['201611']=sample_logerror_v4\n",
    "sample_df['201612']=sample_logerror_v4\n",
    "sample_df['201710']=sample_logerror_v4\n",
    "sample_df['201711']=sample_logerror_v4\n",
    "sample_df['201712']=sample_logerror_v4\n",
    "\n",
    "sample_df.to_csv(\"input/sample_submission_4.1.csv\", index=False)"
   ]
  },
  {
   "cell_type": "code",
   "execution_count": 94,
   "metadata": {},
   "outputs": [
    {
     "name": "stdout",
     "output_type": "stream",
     "text": [
      "Mean squared error: 0.019814\n",
      "Variance score: 0.00\n"
     ]
    }
   ],
   "source": [
    "### K Nearest Neighbour Model ##################\n",
    "# Will explore K nearesrt Neighbour model , as its most likely houses of similar types will be sold at similar prices , hence hoping the log error\n",
    "# is predicted correctly\n",
    "\n",
    "from sklearn.neighbors import KNeighborsRegressor\n",
    "# Create the knn model.\n",
    "# Look at the five closest neighbors.\n",
    "knn = KNeighborsRegressor(n_neighbors=500)\n",
    "\n",
    "train_v5= external_merged_train_v3.copy()\n",
    "# We will drop the features which had higher frequency of missing values along with the columns of train df for the test df\n",
    "train_v5 = train_v5.filter(['calculatedfinishedsquarefeet','latitude','longitude','CrimeRate','ZipCode',\n",
    "                      'finishedsquarefeet12','bedroomcnt','regionidneighborhood','taxamount','regionidzip'\n",
    "                      ,'structuretaxvaluedollarcnt','regionidcity','unitcnt','taxvaluedollarcnt','landtaxvaluedollarcnt']) \n",
    "train_Y_v5 = external_merged_train_v3[['logerror']][:160000]\n",
    "train_X_v5 = train_v5[:160000]\n",
    "test_X_v5 = train_v5[160000:]\n",
    "test_Y_v5 = external_merged_train_v3[['logerror']][160000:]\n",
    "\n",
    "knn.fit(train_X_v5,train_Y_v5)\n",
    "\n",
    "knn_logerror = knn.predict(test_X_v5)\n",
    "\n",
    "# The mean squared error\n",
    "print(\"Mean squared error: %f\"\n",
    "      % mean_squared_error(test_Y_v5, knn_logerror))\n",
    "# Explained variance score\n",
    "print('Variance score: %.2f' % r2_score(test_Y_v5, knn_logerror))"
   ]
  },
  {
   "cell_type": "markdown",
   "metadata": {},
   "source": [
    "##### QUESTION 6 #####\n",
    "###### PERMUTATION TEST ######"
   ]
  },
  {
   "cell_type": "code",
   "execution_count": 95,
   "metadata": {},
   "outputs": [
    {
     "name": "stdout",
     "output_type": "stream",
     "text": [
      "Classification score 0.000814387588591 (pvalue : 0.000999000999001)\n"
     ]
    }
   ],
   "source": [
    "################# Permutation test #################################\n",
    "from sklearn.svm import SVC\n",
    "from sklearn.model_selection import StratifiedKFold\n",
    "from sklearn.model_selection import permutation_test_score\n",
    "\n",
    "train_full_Y_v5 = external_merged_train_v3[['logerror']]\n",
    "X=train_v5\n",
    "Y=train_full_Y_v5\n",
    "n_classes = np.unique(Y).size\n",
    "linear_reg_permutation = linear_model.LinearRegression()\n",
    "cv = StratifiedKFold(2)\n",
    "score, permutation_scores, pvalue = permutation_test_score(\n",
    "    linear_reg_permutation, X, Y, n_permutations=1000, n_jobs=1)\n",
    "\n",
    "print(\"Classification score %s (pvalue : %s)\" % (score, pvalue))"
   ]
  },
  {
   "cell_type": "code",
   "execution_count": 96,
   "metadata": {},
   "outputs": [
    {
     "data": {
      "image/png": "[encoded data removed]",
      "text/plain": [
       "<matplotlib.figure.Figure at 0x1bc718564e0>"
      ]
     },
     "metadata": {},
     "output_type": "display_data"
    }
   ],
   "source": [
    "plt.figure(figsize=(12,12))\n",
    "plt.hist(permutation_scores, 20, label='Permutation scores',\n",
    "         edgecolor='black')\n",
    "ylim = plt.ylim()\n",
    "plt.plot(2 * [score], ylim, '--g', linewidth=3,\n",
    "         label='Classification Score'\n",
    "         ' (pvalue %s)' % pvalue)\n",
    "plt.ylim(ylim)\n",
    "plt.legend()\n",
    "plt.xlabel('Score')\n",
    "plt.show()"
   ]
  },
  {
   "cell_type": "markdown",
   "metadata": {
    "collapsed": true
   },
   "source": [
    "###### Permutation test ######\n",
    "\n",
    "The permutation test has been performed using 1000 permutations.\n",
    "\n",
    "p - value :0.00099\n",
    "\n",
    "p value is the number of( percentage of ) runs for which the score btained is greater than the classification score.\n",
    "This is to evaluate the significance of the classification score with permutations.\n"
   ]
  },
  {
   "cell_type": "markdown",
   "metadata": {},
   "source": [
    "#### SUMMARY ####\n",
    "\n",
    "Two models were used to predict the log errors\n",
    "\n",
    "1. Linear Regression\n",
    "\n",
    "----Best score of linear rergression----\n",
    "Mean Squared Error : 0.01984\n",
    "score by kaggle : 0.065\n",
    "Rank : 2758\n",
    "\n",
    "The mean squared error from home work 2 where we didnot use any external data was : 0.028\n",
    "This error was reduced further after adding the external data i.e, crime data. The new mean squared error : 0.01984.\n",
    "We can see that the model performed better than the previous iteration.\n",
    "But the kaggle rank did not improve much even though the mean squared error was reduce.\n",
    "\n",
    "2. Random Forests\n",
    "\n",
    "----Best score of random forest regressor----\n",
    "Mean Squared Error : 0.0229\n",
    "Score by kaggle : 0.088\n",
    "\n",
    "The random forest regression did not perform better than linear regression.\n",
    "\n",
    "We also tried using k nearerst neighbours . But this failed beacuase of memory error.\n",
    "\n",
    "Out of all the terations with different models, we found that linear regression performed well with aminimum mean squared error.\n",
    "\n"
   ]
  },
  {
   "cell_type": "code",
   "execution_count": null,
   "metadata": {
    "collapsed": true
   },
   "outputs": [],
   "source": []
  }
 ],
 "metadata": {
  "kernelspec": {
   "display_name": "Python 3",
   "language": "python",
   "name": "python3"
  },
  "language_info": {
   "codemirror_mode": {
    "name": "ipython",
    "version": 3
   },
   "file_extension": ".py",
   "mimetype": "text/x-python",
   "name": "python",
   "nbconvert_exporter": "python",
   "pygments_lexer": "ipython3",
   "version": "3.6.2"
  }
 },
 "nbformat": 4,
 "nbformat_minor": 2
}
